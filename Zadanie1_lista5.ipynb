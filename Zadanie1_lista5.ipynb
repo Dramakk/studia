{
  "nbformat": 4,
  "nbformat_minor": 0,
  "metadata": {
    "colab": {
      "name": "Zadanie1_lista5.ipynb",
      "provenance": [],
      "collapsed_sections": []
    },
    "kernelspec": {
      "name": "python3",
      "display_name": "Python 3"
    }
  },
  "cells": [
    {
      "cell_type": "code",
      "metadata": {
        "id": "mE5upMPJ7f83",
        "colab_type": "code",
        "colab": {}
      },
      "source": [
        "import math\n",
        "import pandas as pd\n",
        "import numpy as np\n",
        "import scipy\n",
        "\n",
        "import matplotlib.pyplot as plt\n",
        "from matplotlib.colors import ListedColormap\n",
        "from sklearn import tree\n",
        "from sklearn import datasets\n",
        "from sklearn.model_selection import train_test_split\n",
        "import tqdm\n",
        "\n",
        "def distance(X, Y):\n",
        "  D4 = (X**2).sum(axis=1)[np.newaxis].T - 2 * X.dot(Y.T) + (Y**2).sum(axis=1)[np.newaxis]\n",
        "  return D4\n",
        "\n",
        "def KNN(X_train, Y_train, X_test, ks):\n",
        "    X_train = X_train.astype(np.float32)\n",
        "    X_test = X_test.astype(np.float32)\n",
        "\n",
        "    dists = distance(X_train, X_test)\n",
        "    \n",
        "    # find closest trainig points\n",
        "    closest = np.argsort(dists, axis=0)\n",
        "    \n",
        "    # closest trainig points - > closest trainig targets\n",
        "    targets = Y_train[closest]\n",
        "  \n",
        "    # Alloc space for results\n",
        "    preds = {}\n",
        "    for k in ks:\n",
        "        predictions = scipy.stats.mode(targets[:k])[0] #take k closest targets\n",
        "        predictions = predictions.ravel()\n",
        "        preds[k] = predictions\n",
        "    return preds"
      ],
      "execution_count": 0,
      "outputs": []
    },
    {
      "cell_type": "code",
      "metadata": {
        "id": "8tIdU5vu9Htl",
        "colab_type": "code",
        "colab": {}
      },
      "source": [
        "iris = datasets.load_iris()\n",
        "iris_df = pd.DataFrame(data= np.c_[iris['data'], iris['target']],\n",
        "                     columns= iris['feature_names'] + ['target'])"
      ],
      "execution_count": 0,
      "outputs": []
    },
    {
      "cell_type": "code",
      "metadata": {
        "id": "1tdBoUrNAT_3",
        "colab_type": "code",
        "colab": {}
      },
      "source": [
        "train, test = train_test_split(iris_df, test_size=0.3333)"
      ],
      "execution_count": 0,
      "outputs": []
    },
    {
      "cell_type": "code",
      "metadata": {
        "id": "DmsfpVVlAW5v",
        "colab_type": "code",
        "colab": {}
      },
      "source": [
        "train_iris_x = np.array(train[['sepal length (cm)', 'sepal width (cm)', 'petal length (cm)', 'petal width (cm)']])\n",
        "train_iris_y = np.array(train['target'])\n",
        "\n",
        "test_iris_x = np.array(test[['sepal length (cm)', 'sepal width (cm)', 'petal length (cm)', 'petal width (cm)']])\n",
        "test_iris_y = np.array(test['target'])"
      ],
      "execution_count": 0,
      "outputs": []
    },
    {
      "cell_type": "code",
      "metadata": {
        "id": "3HcnULb6AaYH",
        "colab_type": "code",
        "colab": {
          "base_uri": "https://localhost:8080/",
          "height": 170
        },
        "outputId": "efb48984-179f-47ef-ff5f-a882eae95ac3"
      },
      "source": [
        "ks = np.arange(1,10,1)\n",
        "predictions = KNN(train_iris_x, train_iris_y, test_iris_x, ks)\n",
        "\n",
        "for k, preds in predictions.items():\n",
        "    result = list(preds == test_iris_y)\n",
        "    print(f'Score for k = {k} is: {result.count(True) / len(result) * 100}%')"
      ],
      "execution_count": 126,
      "outputs": [
        {
          "output_type": "stream",
          "text": [
            "Score for k = 1 is: 96.0%\n",
            "Score for k = 2 is: 94.0%\n",
            "Score for k = 3 is: 96.0%\n",
            "Score for k = 4 is: 96.0%\n",
            "Score for k = 5 is: 96.0%\n",
            "Score for k = 6 is: 96.0%\n",
            "Score for k = 7 is: 96.0%\n",
            "Score for k = 8 is: 98.0%\n",
            "Score for k = 9 is: 96.0%\n"
          ],
          "name": "stdout"
        }
      ]
    },
    {
      "cell_type": "code",
      "metadata": {
        "id": "DFqWBS7rDrTw",
        "colab_type": "code",
        "colab": {
          "base_uri": "https://localhost:8080/",
          "height": 353
        },
        "outputId": "74e6da3e-c3a2-4f9e-f726-5f3fc3b13a51"
      },
      "source": [
        "k = 8\n",
        "fig, axes = plt.subplots(1,2)\n",
        "fig.set_size_inches(20,5)\n",
        "axes[0].set_title('KNN predictions')\n",
        "axes[1].set_title('Actual targets')\n",
        "\n",
        "axes[0].scatter(test_iris_x[:, 0], test_iris_x[:, 1], s=50,\n",
        "                c=predictions[k], edgecolors='black')\n",
        "\n",
        "axes[1].scatter(test_iris_x[:, 0], test_iris_x[:, 1], s=50,\n",
        "                c=test_iris_y, edgecolors='black')"
      ],
      "execution_count": 127,
      "outputs": [
        {
          "output_type": "execute_result",
          "data": {
            "text/plain": [
              "<matplotlib.collections.PathCollection at 0x7fd72726b518>"
            ]
          },
          "metadata": {
            "tags": []
          },
          "execution_count": 127
        },
        {
          "output_type": "display_data",
          "data": {
            "image/png": "[encoded data removed]",
            "text/plain": [
              "<Figure size 1440x360 with 2 Axes>"
            ]
          },
          "metadata": {
            "tags": []
          }
        }
      ]
    },
    {
      "cell_type": "code",
      "metadata": {
        "id": "Uas9zFKIEgn2",
        "colab_type": "code",
        "colab": {
          "base_uri": "https://localhost:8080/",
          "height": 282
        },
        "outputId": "918a9e09-2813-4249-eeef-cf9d862a1917"
      },
      "source": [
        "train_digits = np.array(pd.read_csv('/gdrive/My Drive/optdigits.tra', header=None))\n",
        "test_digits = np.array(pd.read_csv('/gdrive/My Drive/optdigits.tes', header=None))\n",
        "\n",
        "X_train = train_digits[:,:-1]\n",
        "Y_train = train_digits[:,-1]\n",
        "X_test = test_digits[:,:-1]\n",
        "Y_test= test_digits[:,-1]\n",
        "\n",
        "plt.imshow(X_train[2].reshape(8,8), cmap='Greys')"
      ],
      "execution_count": 128,
      "outputs": [
        {
          "output_type": "execute_result",
          "data": {
            "text/plain": [
              "<matplotlib.image.AxesImage at 0x7fd726f10be0>"
            ]
          },
          "metadata": {
            "tags": []
          },
          "execution_count": 128
        },
        {
          "output_type": "display_data",
          "data": {
            "image/png": "[encoded data removed]",
            "text/plain": [
              "<Figure size 432x288 with 1 Axes>"
            ]
          },
          "metadata": {
            "tags": []
          }
        }
      ]
    },
    {
      "cell_type": "code",
      "metadata": {
        "id": "jIS0lfUQGC8j",
        "colab_type": "code",
        "colab": {
          "base_uri": "https://localhost:8080/",
          "height": 170
        },
        "outputId": "35d91a27-db4b-4557-b2f3-3fdf4f92cdf9"
      },
      "source": [
        "ks = np.arange(1,10,1)\n",
        "predictions = KNN(X_train, Y_train, X_test, ks)\n",
        "\n",
        "for k, preds in predictions.items():\n",
        "    result = list(preds == Y_test)\n",
        "    print(f'Score for k = {k} is: {result.count(True) / len(result) * 100}%')"
      ],
      "execution_count": 129,
      "outputs": [
        {
          "output_type": "stream",
          "text": [
            "Score for k = 1 is: 97.9966611018364%\n",
            "Score for k = 2 is: 97.38452977184195%\n",
            "Score for k = 3 is: 97.8297161936561%\n",
            "Score for k = 4 is: 97.60712298274903%\n",
            "Score for k = 5 is: 97.88536449638286%\n",
            "Score for k = 6 is: 97.77406789092933%\n",
            "Score for k = 7 is: 97.66277128547578%\n",
            "Score for k = 8 is: 97.66277128547578%\n",
            "Score for k = 9 is: 97.77406789092933%\n"
          ],
          "name": "stdout"
        }
      ]
    },
    {
      "cell_type": "code",
      "metadata": {
        "id": "xVJTRjUsGrHb",
        "colab_type": "code",
        "colab": {}
      },
      "source": [
        "def cross_validation(X, Y, no=10):\n",
        "    err_sum = 0\n",
        "    #Get random indices\n",
        "    indices = np.random.uniform(0, no, len(X)).astype(int)\n",
        "    for i in range(no):\n",
        "        print(f'Test on {i}')\n",
        "        #Get data to train and test on\n",
        "        x_train = X[indices != i]\n",
        "        y_train = Y[indices != i]\n",
        "        x_test = X[indices == i]\n",
        "        y_test = Y[indices == i]\n",
        "        \n",
        "        ks = np.arange(1,21,2)\n",
        "        predictions = KNN(x_train, y_train, x_test, ks)\n",
        "        \n",
        "        best_k, best_score = 0, 0\n",
        "        for k, preds in predictions.items():\n",
        "            result = list(preds == y_test)\n",
        "            result_cnt = result.count(True) / len(result) * 100\n",
        "            if result_cnt > best_score:\n",
        "                best_score = result_cnt\n",
        "                best_k = k\n",
        "        err_sum += 100-best_score\n",
        "        print(f'Best k: {best_k} -> score: {best_score}\\nError for {best_k}: {100-best_score}')\n",
        "        \n",
        "    print(f'Final error: {err_sum / no}')"
      ],
      "execution_count": 0,
      "outputs": []
    },
    {
      "cell_type": "code",
      "metadata": {
        "id": "OmZRpDtEHY-5",
        "colab_type": "code",
        "colab": {
          "base_uri": "https://localhost:8080/",
          "height": 544
        },
        "outputId": "1e32e52f-b2a1-42b4-8c34-e7f4a1b9c139"
      },
      "source": [
        "cross_validation(train_iris_x, train_iris_y)"
      ],
      "execution_count": 142,
      "outputs": [
        {
          "output_type": "stream",
          "text": [
            "Test on 0\n",
            "Best k: 9 -> score: 100.0\n",
            "Error for 9: 0.0\n",
            "Test on 1\n",
            "Best k: 1 -> score: 100.0\n",
            "Error for 1: 0.0\n",
            "Test on 2\n",
            "Best k: 1 -> score: 87.5\n",
            "Error for 1: 12.5\n",
            "Test on 3\n",
            "Best k: 9 -> score: 100.0\n",
            "Error for 9: 0.0\n",
            "Test on 4\n",
            "Best k: 1 -> score: 100.0\n",
            "Error for 1: 0.0\n",
            "Test on 5\n",
            "Best k: 1 -> score: 100.0\n",
            "Error for 1: 0.0\n",
            "Test on 6\n",
            "Best k: 1 -> score: 100.0\n",
            "Error for 1: 0.0\n",
            "Test on 7\n",
            "Best k: 9 -> score: 100.0\n",
            "Error for 9: 0.0\n",
            "Test on 8\n",
            "Best k: 1 -> score: 100.0\n",
            "Error for 1: 0.0\n",
            "Test on 9\n",
            "Best k: 5 -> score: 100.0\n",
            "Error for 5: 0.0\n",
            "Final error: 1.25\n"
          ],
          "name": "stdout"
        }
      ]
    },
    {
      "cell_type": "code",
      "metadata": {
        "id": "qv0jnDBAHamB",
        "colab_type": "code",
        "colab": {
          "base_uri": "https://localhost:8080/",
          "height": 544
        },
        "outputId": "57d369c4-d446-466b-8bf8-21ecad75c29b"
      },
      "source": [
        "cross_validation(X_train, Y_train)"
      ],
      "execution_count": 143,
      "outputs": [
        {
          "output_type": "stream",
          "text": [
            "Test on 0\n",
            "Best k: 1 -> score: 97.66839378238342\n",
            "Error for 1: 2.3316062176165815\n",
            "Test on 1\n",
            "Best k: 1 -> score: 99.50248756218906\n",
            "Error for 1: 0.4975124378109399\n",
            "Test on 2\n",
            "Best k: 7 -> score: 97.96954314720813\n",
            "Error for 7: 2.030456852791872\n",
            "Test on 3\n",
            "Best k: 5 -> score: 98.08743169398907\n",
            "Error for 5: 1.9125683060109253\n",
            "Test on 4\n",
            "Best k: 1 -> score: 99.2248062015504\n",
            "Error for 1: 0.7751937984496067\n",
            "Test on 5\n",
            "Best k: 5 -> score: 98.6413043478261\n",
            "Error for 5: 1.3586956521739069\n",
            "Test on 6\n",
            "Best k: 1 -> score: 99.45205479452055\n",
            "Error for 1: 0.5479452054794507\n",
            "Test on 7\n",
            "Best k: 3 -> score: 99.17355371900827\n",
            "Error for 3: 0.8264462809917319\n",
            "Test on 8\n",
            "Best k: 11 -> score: 98.92761394101876\n",
            "Error for 11: 1.0723860589812375\n",
            "Test on 9\n",
            "Best k: 3 -> score: 98.80668257756562\n",
            "Error for 3: 1.1933174224343759\n",
            "Final error: 1.2546128232740628\n"
          ],
          "name": "stdout"
        }
      ]
    },
    {
      "cell_type": "code",
      "metadata": {
        "id": "X6MMn081OptP",
        "colab_type": "code",
        "colab": {}
      },
      "source": [
        ""
      ],
      "execution_count": 0,
      "outputs": []
    }
  ]
}