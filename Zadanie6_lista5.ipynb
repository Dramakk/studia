{
  "nbformat": 4,
  "nbformat_minor": 0,
  "metadata": {
    "colab": {
      "name": "Zadanie6_lista5.ipynb",
      "provenance": [],
      "collapsed_sections": []
    },
    "kernelspec": {
      "name": "python3",
      "display_name": "Python 3"
    }
  },
  "cells": [
    {
      "cell_type": "code",
      "metadata": {
        "id": "wBo92VeUpSr3",
        "colab_type": "code",
        "colab": {}
      },
      "source": [
        "import tqdm\n",
        "import pandas as pd\n",
        "from collections import Counter\n",
        "from itertools import cycle\n",
        "import graphviz\n",
        "from sklearn import datasets, metrics, tree\n",
        "from sklearn.cluster import KMeans, MiniBatchKMeans, Birch, DBSCAN\n",
        "from sklearn.decomposition import PCA\n",
        "from sklearn.model_selection import train_test_split\n",
        "import numpy as np\n",
        "from sklearn.preprocessing import LabelEncoder\n",
        "\n",
        "def draw_tree(name, data, features, class_names):\n",
        "  dot_data = tree.export_graphviz(data, out_file=None) \n",
        "  graph = graphviz.Source(dot_data) \n",
        "  graph.render(name)\n",
        "  dot_data = tree.export_graphviz(data, out_file=None, \n",
        "                      feature_names=features,  \n",
        "                      class_names=class_names,  \n",
        "                      filled=True, rounded=True,  \n",
        "                      special_characters=True)  \n",
        "  graph = graphviz.Source(dot_data)  \n",
        "  return graph"
      ],
      "execution_count": 0,
      "outputs": []
    },
    {
      "cell_type": "code",
      "metadata": {
        "id": "YepmSpvvpoKn",
        "colab_type": "code",
        "colab": {
          "base_uri": "https://localhost:8080/",
          "height": 632
        },
        "outputId": "55dccb1b-b612-4c14-ba0c-c97dabf51506"
      },
      "source": [
        "bank_df = pd.read_csv('/content/drive/My Drive/bank-additional-full.csv', sep=\";\")\n",
        "categorical = [\"job\", \"marital\", \"education\", \"default\", \"housing\", \"loan\", \"contact\", \"month\", \"day_of_week\",\n",
        "               \"poutcome\", \"y\"]\n",
        "bank_df_target = bank_df[\"y\"]\n",
        "for i in bank_df.columns:\n",
        "  if i in categorical:\n",
        "    bank_df[i] = pd.Categorical(bank_df[i]).codes\n",
        "X_bank_train, X_bank_test = train_test_split(bank_df, test_size=0.3333)\n",
        "Y_bank_train, Y_bank_test = X_bank_train['y'], X_bank_test['y']\n",
        "X_bank_test = X_bank_test.drop('y', axis = 1)\n",
        "X_bank_train = X_bank_train.drop('y', axis = 1)\n",
        "print(bank_df_target)\n",
        "print(bank_df[\"y\"])\n",
        "bank_df.head()"
      ],
      "execution_count": 3,
      "outputs": [
        {
          "output_type": "stream",
          "text": [
            "0         no\n",
            "1         no\n",
            "2         no\n",
            "3         no\n",
            "4         no\n",
            "        ... \n",
            "41183    yes\n",
            "41184     no\n",
            "41185     no\n",
            "41186    yes\n",
            "41187     no\n",
            "Name: y, Length: 41188, dtype: object\n",
            "0        0\n",
            "1        0\n",
            "2        0\n",
            "3        0\n",
            "4        0\n",
            "        ..\n",
            "41183    1\n",
            "41184    0\n",
            "41185    0\n",
            "41186    1\n",
            "41187    0\n",
            "Name: y, Length: 41188, dtype: int8\n"
          ],
          "name": "stdout"
        },
        {
          "output_type": "execute_result",
          "data": {
            "text/html": [
              "<div>\n",
              "<style scoped>\n",
              "    .dataframe tbody tr th:only-of-type {\n",
              "        vertical-align: middle;\n",
              "    }\n",
              "\n",
              "    .dataframe tbody tr th {\n",
              "        vertical-align: top;\n",
              "    }\n",
              "\n",
              "    .dataframe thead th {\n",
              "        text-align: right;\n",
              "    }\n",
              "</style>\n",
              "<table border=\"1\" class=\"dataframe\">\n",
              "  <thead>\n",
              "    <tr style=\"text-align: right;\">\n",
              "      <th></th>\n",
              "      <th>age</th>\n",
              "      <th>job</th>\n",
              "      <th>marital</th>\n",
              "      <th>education</th>\n",
              "      <th>default</th>\n",
              "      <th>housing</th>\n",
              "      <th>loan</th>\n",
              "      <th>contact</th>\n",
              "      <th>month</th>\n",
              "      <th>day_of_week</th>\n",
              "      <th>duration</th>\n",
              "      <th>campaign</th>\n",
              "      <th>pdays</th>\n",
              "      <th>previous</th>\n",
              "      <th>poutcome</th>\n",
              "      <th>emp.var.rate</th>\n",
              "      <th>cons.price.idx</th>\n",
              "      <th>cons.conf.idx</th>\n",
              "      <th>euribor3m</th>\n",
              "      <th>nr.employed</th>\n",
              "      <th>y</th>\n",
              "    </tr>\n",
              "  </thead>\n",
              "  <tbody>\n",
              "    <tr>\n",
              "      <th>0</th>\n",
              "      <td>56</td>\n",
              "      <td>3</td>\n",
              "      <td>1</td>\n",
              "      <td>0</td>\n",
              "      <td>0</td>\n",
              "      <td>0</td>\n",
              "      <td>0</td>\n",
              "      <td>1</td>\n",
              "      <td>6</td>\n",
              "      <td>1</td>\n",
              "      <td>261</td>\n",
              "      <td>1</td>\n",
              "      <td>999</td>\n",
              "      <td>0</td>\n",
              "      <td>1</td>\n",
              "      <td>1.1</td>\n",
              "      <td>93.994</td>\n",
              "      <td>-36.4</td>\n",
              "      <td>4.857</td>\n",
              "      <td>5191.0</td>\n",
              "      <td>0</td>\n",
              "    </tr>\n",
              "    <tr>\n",
              "      <th>1</th>\n",
              "      <td>57</td>\n",
              "      <td>7</td>\n",
              "      <td>1</td>\n",
              "      <td>3</td>\n",
              "      <td>1</td>\n",
              "      <td>0</td>\n",
              "      <td>0</td>\n",
              "      <td>1</td>\n",
              "      <td>6</td>\n",
              "      <td>1</td>\n",
              "      <td>149</td>\n",
              "      <td>1</td>\n",
              "      <td>999</td>\n",
              "      <td>0</td>\n",
              "      <td>1</td>\n",
              "      <td>1.1</td>\n",
              "      <td>93.994</td>\n",
              "      <td>-36.4</td>\n",
              "      <td>4.857</td>\n",
              "      <td>5191.0</td>\n",
              "      <td>0</td>\n",
              "    </tr>\n",
              "    <tr>\n",
              "      <th>2</th>\n",
              "      <td>37</td>\n",
              "      <td>7</td>\n",
              "      <td>1</td>\n",
              "      <td>3</td>\n",
              "      <td>0</td>\n",
              "      <td>2</td>\n",
              "      <td>0</td>\n",
              "      <td>1</td>\n",
              "      <td>6</td>\n",
              "      <td>1</td>\n",
              "      <td>226</td>\n",
              "      <td>1</td>\n",
              "      <td>999</td>\n",
              "      <td>0</td>\n",
              "      <td>1</td>\n",
              "      <td>1.1</td>\n",
              "      <td>93.994</td>\n",
              "      <td>-36.4</td>\n",
              "      <td>4.857</td>\n",
              "      <td>5191.0</td>\n",
              "      <td>0</td>\n",
              "    </tr>\n",
              "    <tr>\n",
              "      <th>3</th>\n",
              "      <td>40</td>\n",
              "      <td>0</td>\n",
              "      <td>1</td>\n",
              "      <td>1</td>\n",
              "      <td>0</td>\n",
              "      <td>0</td>\n",
              "      <td>0</td>\n",
              "      <td>1</td>\n",
              "      <td>6</td>\n",
              "      <td>1</td>\n",
              "      <td>151</td>\n",
              "      <td>1</td>\n",
              "      <td>999</td>\n",
              "      <td>0</td>\n",
              "      <td>1</td>\n",
              "      <td>1.1</td>\n",
              "      <td>93.994</td>\n",
              "      <td>-36.4</td>\n",
              "      <td>4.857</td>\n",
              "      <td>5191.0</td>\n",
              "      <td>0</td>\n",
              "    </tr>\n",
              "    <tr>\n",
              "      <th>4</th>\n",
              "      <td>56</td>\n",
              "      <td>7</td>\n",
              "      <td>1</td>\n",
              "      <td>3</td>\n",
              "      <td>0</td>\n",
              "      <td>0</td>\n",
              "      <td>2</td>\n",
              "      <td>1</td>\n",
              "      <td>6</td>\n",
              "      <td>1</td>\n",
              "      <td>307</td>\n",
              "      <td>1</td>\n",
              "      <td>999</td>\n",
              "      <td>0</td>\n",
              "      <td>1</td>\n",
              "      <td>1.1</td>\n",
              "      <td>93.994</td>\n",
              "      <td>-36.4</td>\n",
              "      <td>4.857</td>\n",
              "      <td>5191.0</td>\n",
              "      <td>0</td>\n",
              "    </tr>\n",
              "  </tbody>\n",
              "</table>\n",
              "</div>"
            ],
            "text/plain": [
              "   age  job  marital  education  ...  cons.conf.idx  euribor3m  nr.employed  y\n",
              "0   56    3        1          0  ...          -36.4      4.857       5191.0  0\n",
              "1   57    7        1          3  ...          -36.4      4.857       5191.0  0\n",
              "2   37    7        1          3  ...          -36.4      4.857       5191.0  0\n",
              "3   40    0        1          1  ...          -36.4      4.857       5191.0  0\n",
              "4   56    7        1          3  ...          -36.4      4.857       5191.0  0\n",
              "\n",
              "[5 rows x 21 columns]"
            ]
          },
          "metadata": {
            "tags": []
          },
          "execution_count": 3
        }
      ]
    },
    {
      "cell_type": "code",
      "metadata": {
        "id": "q1TH7V3HqLUg",
        "colab_type": "code",
        "colab": {}
      },
      "source": [
        "def checkClassif(X_train, Y_train, X_test, Y_test, samples=None, max_depth=None):\n",
        "  def printMax(matrices_gini, matrices_entropy, f1_gini, f1_entropy):\n",
        "    v=list(f1_gini.values())\n",
        "    k=list(f1_gini.keys())\n",
        "    f1_gini_max = k[v.index(max(v))]\n",
        "    v=list(f1_entropy.values())\n",
        "    k=list(f1_entropy.keys())\n",
        "    f1_entropy_max = k[v.index(max(v))]\n",
        "    print(f'Min_samples gini: {f1_gini_max}')\n",
        "    print(f'Min_samples entropy: {f1_entropy_max}')\n",
        "    print('Confusion matrix for gini')\n",
        "    print(matrices_gini[f1_gini_max])\n",
        "    print('Confusion matrix for entropy')\n",
        "    print(matrices_entropy[f1_entropy_max])\n",
        "    print('F1 score gini')\n",
        "    print(f1_gini[f1_gini_max])  \n",
        "    print('F1 score entropy')\n",
        "    print(f1_entropy[f1_entropy_max])\n",
        "  matrices_gini = {}\n",
        "  matrices_entropy = {}\n",
        "  f1_gini = {}\n",
        "  f1_entropy = {}\n",
        "  if samples:\n",
        "    for i in range(1, samples+1, 2):\n",
        "      if max_depth:\n",
        "        bank_tree_gini = tree.DecisionTreeClassifier(criterion='gini', min_samples_leaf=i, max_depth=max_depth)\n",
        "        bank_tree_entropy = tree.DecisionTreeClassifier(criterion='entropy', min_samples_leaf=i, max_depth=max_depth)\n",
        "      else:\n",
        "        bank_tree_gini = tree.DecisionTreeClassifier(criterion='gini', min_samples_leaf=i)\n",
        "        bank_tree_entropy = tree.DecisionTreeClassifier(criterion='entropy', min_samples_leaf=i)\n",
        "      bank_tree_gini.fit(X_train, Y_train)\n",
        "      bank_tree_entropy.fit(X_train, Y_train)\n",
        "      predicts_gini = bank_tree_gini.predict(X_bank_test)\n",
        "      predicts_entropy = bank_tree_entropy.predict(X_test)\n",
        "      matrices_gini[i] = metrics.confusion_matrix(predicts_gini, Y_test)\n",
        "      matrices_entropy[i] = metrics.confusion_matrix(predicts_entropy, Y_test)\n",
        "      f1_gini[i] = metrics.f1_score(predicts_gini, Y_test)\n",
        "      f1_entropy[i] = metrics.f1_score(predicts_entropy, Y_test)\n",
        "    printMax(matrices_gini, matrices_entropy, f1_gini, f1_entropy)\n",
        "  else:\n",
        "    if max_depth:\n",
        "      bank_tree_gini = tree.DecisionTreeClassifier(criterion='gini', max_depth=max_depth)\n",
        "      bank_tree_entropy = tree.DecisionTreeClassifier(criterion='entropy', max_depth=max_depth)\n",
        "    else:\n",
        "      bank_tree_gini = tree.DecisionTreeClassifier(criterion='gini')\n",
        "      bank_tree_entropy = tree.DecisionTreeClassifier(criterion='entropy')\n",
        "    bank_tree_gini.fit(X_train, Y_train)\n",
        "    bank_tree_entropy.fit(X_train, Y_train)\n",
        "    predicts_gini = bank_tree_gini.predict(X_bank_test)\n",
        "    predicts_entropy = bank_tree_entropy.predict(X_test)\n",
        "    print('Confusion matrix for gini')\n",
        "    print(metrics.confusion_matrix(predicts_gini, Y_test))\n",
        "\n",
        "    print('Confusion matrix for entropy')\n",
        "    print(metrics.confusion_matrix(predicts_entropy, Y_test))\n",
        "    print('F1 score gini')\n",
        "    print(metrics.f1_score(predicts_gini, Y_test))  \n",
        "    print('F1 score entropy')\n",
        "    print(metrics.f1_score(predicts_entropy, Y_test))"
      ],
      "execution_count": 0,
      "outputs": []
    },
    {
      "cell_type": "code",
      "metadata": {
        "id": "85r2rOCcvr75",
        "colab_type": "code",
        "colab": {
          "base_uri": "https://localhost:8080/",
          "height": 187
        },
        "outputId": "12a39648-ffbf-4570-b78c-7b2d1def3304"
      },
      "source": [
        "checkClassif(X_bank_train, Y_bank_train, X_bank_test, Y_bank_test)"
      ],
      "execution_count": 5,
      "outputs": [
        {
          "output_type": "stream",
          "text": [
            "Confusion matrix for gini\n",
            "[[11404   716]\n",
            " [  780   828]]\n",
            "Confusion matrix for entropy\n",
            "[[11403   733]\n",
            " [  781   811]]\n",
            "F1 score gini\n",
            "0.5253807106598986\n",
            "F1 score entropy\n",
            "0.5172193877551021\n"
          ],
          "name": "stdout"
        }
      ]
    },
    {
      "cell_type": "code",
      "metadata": {
        "id": "2GEUmqCdxlxm",
        "colab_type": "code",
        "colab": {
          "base_uri": "https://localhost:8080/",
          "height": 340
        },
        "outputId": "d3a3b536-1f03-4e4f-dba0-87aeb58a39b1"
      },
      "source": [
        "for i in tqdm.tqdm(range(2, 20)):\n",
        "  checkClassif(X_bank_train, Y_bank_train, X_bank_test, Y_bank_test, samples=150, max_depth=i)"
      ],
      "execution_count": 8,
      "outputs": [
        {
          "output_type": "stream",
          "text": [
            "  6%|▌         | 1/18 [00:06<01:44,  6.14s/it]"
          ],
          "name": "stderr"
        },
        {
          "output_type": "stream",
          "text": [
            "[1, 1, 0.49101338432122366, 0.49453448925744437]\n"
          ],
          "name": "stdout"
        },
        {
          "output_type": "stream",
          "text": [
            "\r 11%|█         | 2/18 [00:13<01:45,  6.60s/it]"
          ],
          "name": "stderr"
        },
        {
          "output_type": "stream",
          "text": [
            "[1, 1, 0.5857329842931936, 0.5875888817065288]\n"
          ],
          "name": "stdout"
        },
        {
          "output_type": "stream",
          "text": [
            "\r 17%|█▋        | 3/18 [00:23<01:50,  7.39s/it]"
          ],
          "name": "stderr"
        },
        {
          "output_type": "stream",
          "text": [
            "[11, 13, 0.5440414507772021, 0.5164319248826291]\n"
          ],
          "name": "stdout"
        },
        {
          "output_type": "stream",
          "text": [
            "\r 22%|██▏       | 4/18 [00:33<01:57,  8.40s/it]"
          ],
          "name": "stderr"
        },
        {
          "output_type": "stream",
          "text": [
            "[113, 125, 0.5750360750360749, 0.5774597495527727]\n"
          ],
          "name": "stdout"
        },
        {
          "output_type": "stream",
          "text": [
            "\r 28%|██▊       | 5/18 [00:46<02:04,  9.58s/it]"
          ],
          "name": "stderr"
        },
        {
          "output_type": "stream",
          "text": [
            "[41, 39, 0.5942778352292313, 0.592032967032967]\n"
          ],
          "name": "stdout"
        },
        {
          "output_type": "stream",
          "text": [
            "\r 33%|███▎      | 6/18 [00:59<02:08, 10.72s/it]"
          ],
          "name": "stderr"
        },
        {
          "output_type": "stream",
          "text": [
            "[59, 59, 0.592205984690327, 0.5867132867132867]\n"
          ],
          "name": "stdout"
        },
        {
          "output_type": "stream",
          "text": [
            "\r 39%|███▉      | 7/18 [01:13<02:09, 11.79s/it]"
          ],
          "name": "stderr"
        },
        {
          "output_type": "stream",
          "text": [
            "[59, 51, 0.6109238031018206, 0.5978817902289034]\n"
          ],
          "name": "stdout"
        },
        {
          "output_type": "stream",
          "text": [
            "\r 44%|████▍     | 8/18 [01:28<02:07, 12.77s/it]"
          ],
          "name": "stderr"
        },
        {
          "output_type": "stream",
          "text": [
            "[61, 41, 0.6109238031018206, 0.5941011235955055]\n"
          ],
          "name": "stdout"
        },
        {
          "output_type": "stream",
          "text": [
            "\r 50%|█████     | 9/18 [01:44<02:02, 13.63s/it]"
          ],
          "name": "stderr"
        },
        {
          "output_type": "stream",
          "text": [
            "[61, 41, 0.6079836233367452, 0.5953716690042076]\n"
          ],
          "name": "stdout"
        },
        {
          "output_type": "stream",
          "text": [
            "\r 56%|█████▌    | 10/18 [02:00<01:54, 14.33s/it]"
          ],
          "name": "stderr"
        },
        {
          "output_type": "stream",
          "text": [
            "[61, 39, 0.6079836233367452, 0.5945385413066021]\n"
          ],
          "name": "stdout"
        },
        {
          "output_type": "stream",
          "text": [
            "\r 61%|██████    | 11/18 [02:16<01:43, 14.82s/it]"
          ],
          "name": "stderr"
        },
        {
          "output_type": "stream",
          "text": [
            "[61, 39, 0.6079836233367452, 0.5945385413066021]\n"
          ],
          "name": "stdout"
        },
        {
          "output_type": "stream",
          "text": [
            "\r 67%|██████▋   | 12/18 [02:32<01:31, 15.20s/it]"
          ],
          "name": "stderr"
        },
        {
          "output_type": "stream",
          "text": [
            "[61, 39, 0.6079836233367452, 0.5945385413066021]\n"
          ],
          "name": "stdout"
        },
        {
          "output_type": "stream",
          "text": [
            "\r 72%|███████▏  | 13/18 [02:48<01:17, 15.52s/it]"
          ],
          "name": "stderr"
        },
        {
          "output_type": "stream",
          "text": [
            "[61, 39, 0.6079836233367452, 0.5945385413066021]\n"
          ],
          "name": "stdout"
        },
        {
          "output_type": "stream",
          "text": [
            "\r 78%|███████▊  | 14/18 [03:05<01:03, 15.79s/it]"
          ],
          "name": "stderr"
        },
        {
          "output_type": "stream",
          "text": [
            "[61, 39, 0.6079836233367452, 0.5945385413066021]\n"
          ],
          "name": "stdout"
        },
        {
          "output_type": "stream",
          "text": [
            "\r 83%|████████▎ | 15/18 [03:21<00:47, 15.94s/it]"
          ],
          "name": "stderr"
        },
        {
          "output_type": "stream",
          "text": [
            "[61, 39, 0.6079836233367452, 0.5945385413066021]\n"
          ],
          "name": "stdout"
        },
        {
          "output_type": "stream",
          "text": [
            "\r 89%|████████▉ | 16/18 [03:37<00:32, 16.03s/it]"
          ],
          "name": "stderr"
        },
        {
          "output_type": "stream",
          "text": [
            "[61, 39, 0.6079836233367452, 0.5945385413066021]\n"
          ],
          "name": "stdout"
        },
        {
          "output_type": "stream",
          "text": [
            "\r 94%|█████████▍| 17/18 [03:53<00:16, 16.09s/it]"
          ],
          "name": "stderr"
        },
        {
          "output_type": "stream",
          "text": [
            "[61, 39, 0.6079836233367452, 0.5945385413066021]\n"
          ],
          "name": "stdout"
        },
        {
          "output_type": "stream",
          "text": [
            "\r100%|██████████| 18/18 [04:10<00:00, 16.11s/it]"
          ],
          "name": "stderr"
        },
        {
          "output_type": "stream",
          "text": [
            "[61, 39, 0.6079836233367452, 0.5945385413066021]\n"
          ],
          "name": "stdout"
        },
        {
          "output_type": "stream",
          "text": [
            "\n"
          ],
          "name": "stderr"
        }
      ]
    },
    {
      "cell_type": "code",
      "metadata": {
        "id": "nX4lSNRd2_K8",
        "colab_type": "code",
        "colab": {}
      },
      "source": [
        ""
      ],
      "execution_count": 0,
      "outputs": []
    }
  ]
}