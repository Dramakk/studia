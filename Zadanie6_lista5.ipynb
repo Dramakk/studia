{
  "nbformat": 4,
  "nbformat_minor": 0,
  "metadata": {
    "colab": {
      "name": "Zadanie6_lista5.ipynb",
      "provenance": [],
      "collapsed_sections": []
    },
    "kernelspec": {
      "name": "python3",
      "display_name": "Python 3"
    }
  },
  "cells": [
    {
      "cell_type": "code",
      "metadata": {
        "id": "wBo92VeUpSr3",
        "colab_type": "code",
        "colab": {}
      },
      "source": [
        "import tqdm\n",
        "import pandas as pd\n",
        "from collections import Counter\n",
        "from itertools import cycle\n",
        "import graphviz\n",
        "from sklearn import datasets, metrics, tree\n",
        "from sklearn.cluster import KMeans, MiniBatchKMeans, Birch, DBSCAN\n",
        "from sklearn.decomposition import PCA\n",
        "from sklearn.model_selection import train_test_split\n",
        "import numpy as np\n",
        "from sklearn.preprocessing import LabelEncoder\n",
        "from sklearn.model_selection import cross_val_score\n",
        "\n",
        "def draw_tree(name, data, features, class_names):\n",
        "  dot_data = tree.export_graphviz(data, out_file=None) \n",
        "  graph = graphviz.Source(dot_data) \n",
        "  graph.render(name)\n",
        "  dot_data = tree.export_graphviz(data, out_file=None, \n",
        "                      feature_names=features,  \n",
        "                      class_names=class_names,  \n",
        "                      filled=True, rounded=True,  \n",
        "                      special_characters=True)  \n",
        "  graph = graphviz.Source(dot_data)  \n",
        "  return graph"
      ],
      "execution_count": 0,
      "outputs": []
    },
    {
      "cell_type": "code",
      "metadata": {
        "id": "YepmSpvvpoKn",
        "colab_type": "code",
        "colab": {
          "base_uri": "https://localhost:8080/",
          "height": 632
        },
        "outputId": "db9745b1-b18d-4d42-cbf1-aa3a56a20440"
      },
      "source": [
        "bank_df = pd.read_csv('/content/drive/My Drive/bank-additional-full.csv', sep=\";\")\n",
        "categorical = [\"job\", \"marital\", \"education\", \"default\", \"housing\", \"loan\", \"contact\", \"month\", \"day_of_week\",\n",
        "               \"poutcome\", \"y\"]\n",
        "bank_df_target = bank_df[\"y\"]\n",
        "for i in bank_df.columns:\n",
        "  if i in categorical:\n",
        "    bank_df[i] = pd.Categorical(bank_df[i]).codes\n",
        "X_bank_train, X_bank_test = train_test_split(bank_df, test_size=0.3333)\n",
        "Y_bank_train, Y_bank_test = X_bank_train['y'], X_bank_test['y']\n",
        "X_bank_test = X_bank_test.drop('y', axis = 1)\n",
        "X_bank_train = X_bank_train.drop('y', axis = 1)\n",
        "print(bank_df_target)\n",
        "print(bank_df[\"y\"])\n",
        "bank_df.head()"
      ],
      "execution_count": 105,
      "outputs": [
        {
          "output_type": "stream",
          "text": [
            "0         no\n",
            "1         no\n",
            "2         no\n",
            "3         no\n",
            "4         no\n",
            "        ... \n",
            "41183    yes\n",
            "41184     no\n",
            "41185     no\n",
            "41186    yes\n",
            "41187     no\n",
            "Name: y, Length: 41188, dtype: object\n",
            "0        0\n",
            "1        0\n",
            "2        0\n",
            "3        0\n",
            "4        0\n",
            "        ..\n",
            "41183    1\n",
            "41184    0\n",
            "41185    0\n",
            "41186    1\n",
            "41187    0\n",
            "Name: y, Length: 41188, dtype: int8\n"
          ],
          "name": "stdout"
        },
        {
          "output_type": "execute_result",
          "data": {
            "text/html": [
              "<div>\n",
              "<style scoped>\n",
              "    .dataframe tbody tr th:only-of-type {\n",
              "        vertical-align: middle;\n",
              "    }\n",
              "\n",
              "    .dataframe tbody tr th {\n",
              "        vertical-align: top;\n",
              "    }\n",
              "\n",
              "    .dataframe thead th {\n",
              "        text-align: right;\n",
              "    }\n",
              "</style>\n",
              "<table border=\"1\" class=\"dataframe\">\n",
              "  <thead>\n",
              "    <tr style=\"text-align: right;\">\n",
              "      <th></th>\n",
              "      <th>age</th>\n",
              "      <th>job</th>\n",
              "      <th>marital</th>\n",
              "      <th>education</th>\n",
              "      <th>default</th>\n",
              "      <th>housing</th>\n",
              "      <th>loan</th>\n",
              "      <th>contact</th>\n",
              "      <th>month</th>\n",
              "      <th>day_of_week</th>\n",
              "      <th>duration</th>\n",
              "      <th>campaign</th>\n",
              "      <th>pdays</th>\n",
              "      <th>previous</th>\n",
              "      <th>poutcome</th>\n",
              "      <th>emp.var.rate</th>\n",
              "      <th>cons.price.idx</th>\n",
              "      <th>cons.conf.idx</th>\n",
              "      <th>euribor3m</th>\n",
              "      <th>nr.employed</th>\n",
              "      <th>y</th>\n",
              "    </tr>\n",
              "  </thead>\n",
              "  <tbody>\n",
              "    <tr>\n",
              "      <th>0</th>\n",
              "      <td>56</td>\n",
              "      <td>3</td>\n",
              "      <td>1</td>\n",
              "      <td>0</td>\n",
              "      <td>0</td>\n",
              "      <td>0</td>\n",
              "      <td>0</td>\n",
              "      <td>1</td>\n",
              "      <td>6</td>\n",
              "      <td>1</td>\n",
              "      <td>261</td>\n",
              "      <td>1</td>\n",
              "      <td>999</td>\n",
              "      <td>0</td>\n",
              "      <td>1</td>\n",
              "      <td>1.1</td>\n",
              "      <td>93.994</td>\n",
              "      <td>-36.4</td>\n",
              "      <td>4.857</td>\n",
              "      <td>5191.0</td>\n",
              "      <td>0</td>\n",
              "    </tr>\n",
              "    <tr>\n",
              "      <th>1</th>\n",
              "      <td>57</td>\n",
              "      <td>7</td>\n",
              "      <td>1</td>\n",
              "      <td>3</td>\n",
              "      <td>1</td>\n",
              "      <td>0</td>\n",
              "      <td>0</td>\n",
              "      <td>1</td>\n",
              "      <td>6</td>\n",
              "      <td>1</td>\n",
              "      <td>149</td>\n",
              "      <td>1</td>\n",
              "      <td>999</td>\n",
              "      <td>0</td>\n",
              "      <td>1</td>\n",
              "      <td>1.1</td>\n",
              "      <td>93.994</td>\n",
              "      <td>-36.4</td>\n",
              "      <td>4.857</td>\n",
              "      <td>5191.0</td>\n",
              "      <td>0</td>\n",
              "    </tr>\n",
              "    <tr>\n",
              "      <th>2</th>\n",
              "      <td>37</td>\n",
              "      <td>7</td>\n",
              "      <td>1</td>\n",
              "      <td>3</td>\n",
              "      <td>0</td>\n",
              "      <td>2</td>\n",
              "      <td>0</td>\n",
              "      <td>1</td>\n",
              "      <td>6</td>\n",
              "      <td>1</td>\n",
              "      <td>226</td>\n",
              "      <td>1</td>\n",
              "      <td>999</td>\n",
              "      <td>0</td>\n",
              "      <td>1</td>\n",
              "      <td>1.1</td>\n",
              "      <td>93.994</td>\n",
              "      <td>-36.4</td>\n",
              "      <td>4.857</td>\n",
              "      <td>5191.0</td>\n",
              "      <td>0</td>\n",
              "    </tr>\n",
              "    <tr>\n",
              "      <th>3</th>\n",
              "      <td>40</td>\n",
              "      <td>0</td>\n",
              "      <td>1</td>\n",
              "      <td>1</td>\n",
              "      <td>0</td>\n",
              "      <td>0</td>\n",
              "      <td>0</td>\n",
              "      <td>1</td>\n",
              "      <td>6</td>\n",
              "      <td>1</td>\n",
              "      <td>151</td>\n",
              "      <td>1</td>\n",
              "      <td>999</td>\n",
              "      <td>0</td>\n",
              "      <td>1</td>\n",
              "      <td>1.1</td>\n",
              "      <td>93.994</td>\n",
              "      <td>-36.4</td>\n",
              "      <td>4.857</td>\n",
              "      <td>5191.0</td>\n",
              "      <td>0</td>\n",
              "    </tr>\n",
              "    <tr>\n",
              "      <th>4</th>\n",
              "      <td>56</td>\n",
              "      <td>7</td>\n",
              "      <td>1</td>\n",
              "      <td>3</td>\n",
              "      <td>0</td>\n",
              "      <td>0</td>\n",
              "      <td>2</td>\n",
              "      <td>1</td>\n",
              "      <td>6</td>\n",
              "      <td>1</td>\n",
              "      <td>307</td>\n",
              "      <td>1</td>\n",
              "      <td>999</td>\n",
              "      <td>0</td>\n",
              "      <td>1</td>\n",
              "      <td>1.1</td>\n",
              "      <td>93.994</td>\n",
              "      <td>-36.4</td>\n",
              "      <td>4.857</td>\n",
              "      <td>5191.0</td>\n",
              "      <td>0</td>\n",
              "    </tr>\n",
              "  </tbody>\n",
              "</table>\n",
              "</div>"
            ],
            "text/plain": [
              "   age  job  marital  education  ...  cons.conf.idx  euribor3m  nr.employed  y\n",
              "0   56    3        1          0  ...          -36.4      4.857       5191.0  0\n",
              "1   57    7        1          3  ...          -36.4      4.857       5191.0  0\n",
              "2   37    7        1          3  ...          -36.4      4.857       5191.0  0\n",
              "3   40    0        1          1  ...          -36.4      4.857       5191.0  0\n",
              "4   56    7        1          3  ...          -36.4      4.857       5191.0  0\n",
              "\n",
              "[5 rows x 21 columns]"
            ]
          },
          "metadata": {
            "tags": []
          },
          "execution_count": 105
        }
      ]
    },
    {
      "cell_type": "code",
      "metadata": {
        "id": "q1TH7V3HqLUg",
        "colab_type": "code",
        "colab": {}
      },
      "source": [
        "def checkClassif(X_train, Y_train, X_test, Y_test, criterion, samples=None, max_depth=None):\n",
        "  def printMax(f1_cv):\n",
        "    v=list(f1_cv.values())\n",
        "    k=list(f1_cv.keys())\n",
        "    f1_cv_max = k[v.index(max(v))]\n",
        "    x = f1_cv_max.split(\";\")\n",
        "    print('\\n'+'-'*8)\n",
        "    print('Values for best cv score:')\n",
        "    print(f'Min_samples_leaf={x[0]}')\n",
        "    print(f'Max_depth={x[1]}') \n",
        "    print('F1 cv score for train:')\n",
        "    print(f1_cv[f1_cv_max][0])\n",
        "    print('-'*8)\n",
        "    return [int(x[0]), int(x[1])]\n",
        "  matrices = {}\n",
        "  depth = {}\n",
        "  f1_cv = {}\n",
        "  if samples or max_depth:\n",
        "    for i in range(50, samples+1, 2):\n",
        "      for j in range(5, max_depth+1, 1):\n",
        "        bank_tree = tree.DecisionTreeClassifier(criterion=criterion, min_samples_leaf=i, max_depth=j)\n",
        "        f1_cv[str(i)+\";\"+str(j)] = [np.mean(cross_val_score(bank_tree, X_train, Y_train, cv=5, scoring=\"f1\")), j]\n",
        "\n",
        "    params = printMax(f1_cv)\n",
        "    bank_tree = tree.DecisionTreeClassifier(criterion=criterion, min_samples_leaf=params[0], max_depth=params[1])\n",
        "    bank_tree.fit(X_train, Y_train)\n",
        "    predicts = bank_tree.predict(X_bank_test)\n",
        "    print('Confusion matrix')\n",
        "    print(metrics.confusion_matrix(predicts, Y_test))  \n",
        "    print('F1 score')\n",
        "    print(metrics.f1_score(predicts, Y_test))\n",
        "  else:\n",
        "      bank_tree = tree.DecisionTreeClassifier(criterion=criterion)\n",
        "      bank_tree.fit(X_train, Y_train)\n",
        "      predicts = bank_tree.predict(X_test)\n",
        "      print('Confusion matrix')\n",
        "      print(metrics.confusion_matrix(predicts, Y_test))  \n",
        "      print('F1 score')\n",
        "      print(metrics.f1_score(predicts, Y_test))\n",
        "      print(f'Cross validation f1 score: {np.mean(cross_val_score(bank_tree, X_train, Y_train, cv=5, scoring=\"f1\"))}')"
      ],
      "execution_count": 0,
      "outputs": []
    },
    {
      "cell_type": "code",
      "metadata": {
        "id": "85r2rOCcvr75",
        "colab_type": "code",
        "colab": {
          "base_uri": "https://localhost:8080/",
          "height": 119
        },
        "outputId": "51671f41-46d2-47f7-b2bb-67f169684a3f"
      },
      "source": [
        "checkClassif(X_bank_train, Y_bank_train, X_bank_test, Y_bank_test, 'gini')"
      ],
      "execution_count": 157,
      "outputs": [
        {
          "output_type": "stream",
          "text": [
            "Confusion matrix\n",
            "[[11337   722]\n",
            " [  866   803]]\n",
            "F1 score\n",
            "0.5028177833437696\n",
            "Cross validation f1 score: 0.5291726746454721\n"
          ],
          "name": "stdout"
        }
      ]
    },
    {
      "cell_type": "code",
      "metadata": {
        "id": "3kID7-0fIgIo",
        "colab_type": "code",
        "colab": {
          "base_uri": "https://localhost:8080/",
          "height": 119
        },
        "outputId": "3aafeca0-1e5b-4560-f20b-3bab90c76eec"
      },
      "source": [
        "checkClassif(X_bank_train, Y_bank_train, X_bank_test, Y_bank_test, 'entropy')"
      ],
      "execution_count": 158,
      "outputs": [
        {
          "output_type": "stream",
          "text": [
            "Confusion matrix\n",
            "[[11394   729]\n",
            " [  809   796]]\n",
            "F1 score\n",
            "0.5086261980830671\n",
            "Cross validation f1 score: 0.5320713926638355\n"
          ],
          "name": "stdout"
        }
      ]
    },
    {
      "cell_type": "code",
      "metadata": {
        "id": "2GEUmqCdxlxm",
        "colab_type": "code",
        "colab": {
          "base_uri": "https://localhost:8080/",
          "height": 238
        },
        "outputId": "68c30e95-433b-474d-c8bd-ebf3a24ab81e"
      },
      "source": [
        "checkClassif(X_bank_train, Y_bank_train, X_bank_test, Y_bank_test, 'gini', samples=120, max_depth=15)"
      ],
      "execution_count": 159,
      "outputs": [
        {
          "output_type": "stream",
          "text": [
            "\n",
            "--------\n",
            "Values for best cv score:\n",
            "Min_samples_leaf=52\n",
            "Max_depth=6\n",
            "F1 cv score for train:\n",
            "0.5921872912230148\n",
            "--------\n",
            "Confusion matrix\n",
            "[[11674   657]\n",
            " [  529   868]]\n",
            "F1 score\n",
            "0.5941136208076659\n"
          ],
          "name": "stdout"
        }
      ]
    },
    {
      "cell_type": "code",
      "metadata": {
        "id": "nX4lSNRd2_K8",
        "colab_type": "code",
        "colab": {
          "base_uri": "https://localhost:8080/",
          "height": 238
        },
        "outputId": "cf8ed25b-2b9e-4343-a306-1ab7746b3421"
      },
      "source": [
        "checkClassif(X_bank_train, Y_bank_train, X_bank_test, Y_bank_test, 'entropy', samples=120, max_depth=15)"
      ],
      "execution_count": 160,
      "outputs": [
        {
          "output_type": "stream",
          "text": [
            "\n",
            "--------\n",
            "Values for best cv score:\n",
            "Min_samples_leaf=50\n",
            "Max_depth=6\n",
            "F1 cv score for train:\n",
            "0.5953954041461059\n",
            "--------\n",
            "Confusion matrix\n",
            "[[11643   641]\n",
            " [  560   884]]\n",
            "F1 score\n",
            "0.595486695857191\n"
          ],
          "name": "stdout"
        }
      ]
    },
    {
      "cell_type": "code",
      "metadata": {
        "id": "LJQhqZr8Pizu",
        "colab_type": "code",
        "colab": {}
      },
      "source": [
        ""
      ],
      "execution_count": 0,
      "outputs": []
    }
  ]
}