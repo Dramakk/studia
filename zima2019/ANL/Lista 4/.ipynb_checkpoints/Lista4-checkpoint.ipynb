{
 "cells": [
  {
   "cell_type": "code",
   "execution_count": 1,
   "metadata": {},
   "outputs": [],
   "source": [
    "import numpy as np"
   ]
  },
  {
   "cell_type": "code",
   "execution_count": 47,
   "metadata": {},
   "outputs": [
    {
     "name": "stdout",
     "output_type": "stream",
     "text": [
      "Rzeczywisty: 0.435307364005304\n",
      "Szacowany: 0.5\n",
      "eR <= eN True\n",
      "Rzeczywisty: 0.185307364005304\n",
      "Szacowany: 0.25\n",
      "eR <= eN True\n",
      "Rzeczywisty: 0.060307364005303996\n",
      "Szacowany: 0.125\n",
      "eR <= eN True\n",
      "Rzeczywisty: 0.0021926359946960045\n",
      "Szacowany: 0.0625\n",
      "eR <= eN True\n",
      "Rzeczywisty: 0.029057364005303996\n",
      "Szacowany: 0.03125\n",
      "eR <= eN True\n",
      "Rzeczywisty: 0.013432364005303996\n",
      "Szacowany: 0.015625\n",
      "eR <= eN True\n",
      "Rzeczywisty: 0.0056198640053039955\n",
      "Szacowany: 0.0078125\n",
      "eR <= eN True\n",
      "Rzeczywisty: 0.0017136140053039955\n",
      "Szacowany: 0.00390625\n",
      "eR <= eN True\n",
      "Rzeczywisty: 0.00023951099469600445\n",
      "Szacowany: 0.001953125\n",
      "eR <= eN True\n",
      "Rzeczywisty: 0.0007370515053039955\n",
      "Szacowany: 0.0009765625\n",
      "eR <= eN True\n",
      "Rzeczywisty: 0.00024877025530399555\n",
      "Szacowany: 0.00048828125\n",
      "eR <= eN True\n",
      "Rzeczywisty: 4.629630303995547e-06\n",
      "Szacowany: 0.000244140625\n",
      "eR <= eN True\n",
      "Rzeczywisty: 0.00011744068219600445\n",
      "Szacowany: 0.0001220703125\n",
      "eR <= eN True\n",
      "Rzeczywisty: 5.640552594600445e-05\n",
      "Szacowany: 6.103515625e-05\n",
      "eR <= eN True\n",
      "Rzeczywisty: 2.5887947821004453e-05\n",
      "Szacowany: 3.0517578125e-05\n",
      "eR <= eN True\n",
      "Rzeczywisty: 1.0629158758504453e-05\n",
      "Szacowany: 1.52587890625e-05\n",
      "eR <= eN True\n"
     ]
    }
   ],
   "source": [
    "def f(x):\n",
    "    return x*(np.e ** (-x)) - 0.06064\n",
    "def f3(a0, b0):\n",
    "    alfa = 0.0646926359946960\n",
    "    a1, b1 = a0, b0\n",
    "    for i in range(0, 16):\n",
    "        m = (a1+b1)/2\n",
    "        eR = abs(alfa-m)\n",
    "        eN = (2 ** (-i - 1))*(b0 - a0)\n",
    "        print(\"Rzeczywisty:\", eR)\n",
    "        print(\"Szacowany:\", eN)\n",
    "        print(\"eR <= eN\", eR <= eN)\n",
    "        if(f(m) == 0):\n",
    "            return m\n",
    "        elif(f(m) > 0):\n",
    "            b1 = m\n",
    "        else:\n",
    "            a1 = m\n",
    "\n",
    "f3(0, 1)"
   ]
  },
  {
   "cell_type": "code",
   "execution_count": 46,
   "metadata": {},
   "outputs": [
    {
     "name": "stdout",
     "output_type": "stream",
     "text": [
      "0.22533416748046875\n",
      "2.583892822265625\n"
     ]
    }
   ],
   "source": [
    "def f(x):\n",
    "    return -((x**2) - (2*x) - np.arctan(7*x-2))\n",
    "def f_2(x):\n",
    "    return (x**2) - (2*x) - np.arctan(7*x-2)\n",
    "def f4(a0, b0, e, f):\n",
    "    a1, b1 = a0, b0\n",
    "    for i in range(0, np.int(np.ceil(np.log2((b0-a0)/(2*e)))) + 1):\n",
    "        m = (a1+b1)/2\n",
    "        if(abs(f(m)) < e):\n",
    "            return m\n",
    "        elif(f(m) > 0):\n",
    "            b1 = m\n",
    "        else:\n",
    "            a1 = m\n",
    "            \n",
    "print(f4(0, 1, (10 ** -5), f))\n",
    "print(f4(2, 3, (10 ** -5), f_2))"
   ]
  },
  {
   "cell_type": "code",
   "execution_count": 58,
   "metadata": {},
   "outputs": [],
   "source": [
    "def f7(x):\n",
    "    def f(x, a):\n",
    "        return x*x - a\n",
    "    def fP(x):\n",
    "        return 2*x\n",
    "    x0 = x\n",
    "    x1 = x\n",
    "    temp = 0\n",
    "    while (abs(f(x1, x)) >= (10 ** (-5)) or abs((x1-x0)/x0) >= (10 ** (-5))):\n",
    "        temp = x0\n",
    "        x0 = x1\n",
    "        x1 = temp - (f(temp, x)/fP(temp))\n",
    "        print(x1)\n",
    "        print(x0)"
   ]
  },
  {
   "cell_type": "code",
   "execution_count": 59,
   "metadata": {},
   "outputs": [
    {
     "name": "stdout",
     "output_type": "stream",
     "text": [
      "61.0\n",
      "121\n",
      "61.0\n",
      "61.0\n",
      "31.491803278688526\n",
      "61.0\n",
      "31.491803278688526\n",
      "31.491803278688526\n",
      "17.667036464955924\n",
      "31.491803278688526\n",
      "17.667036464955924\n",
      "17.667036464955924\n",
      "12.257974853711914\n",
      "17.667036464955924\n",
      "12.257974853711914\n",
      "12.257974853711914\n",
      "11.06454984414054\n",
      "12.257974853711914\n",
      "11.06454984414054\n",
      "11.06454984414054\n",
      "11.000188289737823\n",
      "11.06454984414054\n",
      "11.000188289737823\n",
      "11.000188289737823\n",
      "11.000000001611474\n",
      "11.000188289737823\n",
      "11.000000001611474\n",
      "11.000000001611474\n"
     ]
    }
   ],
   "source": [
    "f7(121)"
   ]
  },
  {
   "cell_type": "code",
   "execution_count": 75,
   "metadata": {},
   "outputs": [],
   "source": [
    "def f6(x, R):\n",
    "    def f(x):\n",
    "        return 2 - 2*R*x\n",
    "    def fP(x):\n",
    "        return -2*R\n",
    "    x0 = x\n",
    "    x1 = x\n",
    "    temp = 0\n",
    "    while (abs(f(x1)) >= (10 ** (-5)) or abs((x1-x0)/x0) >= (10 ** (-5))):\n",
    "        temp = x0\n",
    "        x0 = x1\n",
    "        x1 = temp - (f(temp)/fP(temp))\n",
    "    return x1"
   ]
  },
  {
   "cell_type": "code",
   "execution_count": 76,
   "metadata": {},
   "outputs": [
    {
     "data": {
      "text/plain": [
       "0.2"
      ]
     },
     "execution_count": 76,
     "metadata": {},
     "output_type": "execute_result"
    }
   ],
   "source": [
    "f6(1000000000000000, 5)"
   ]
  },
  {
   "cell_type": "code",
   "execution_count": 64,
   "metadata": {},
   "outputs": [
    {
     "data": {
      "text/plain": [
       "0.2"
      ]
     },
     "execution_count": 64,
     "metadata": {},
     "output_type": "execute_result"
    }
   ],
   "source": [
    "1/5"
   ]
  },
  {
   "cell_type": "code",
   "execution_count": null,
   "metadata": {},
   "outputs": [],
   "source": []
  }
 ],
 "metadata": {
  "kernelspec": {
   "display_name": "Python 3",
   "language": "python",
   "name": "python3"
  },
  "language_info": {
   "codemirror_mode": {
    "name": "ipython",
    "version": 3
   },
   "file_extension": ".py",
   "mimetype": "text/x-python",
   "name": "python",
   "nbconvert_exporter": "python",
   "pygments_lexer": "ipython3",
   "version": "3.7.3"
  }
 },
 "nbformat": 4,
 "nbformat_minor": 2
}
