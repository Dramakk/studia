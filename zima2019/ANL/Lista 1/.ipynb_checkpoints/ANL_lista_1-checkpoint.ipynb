{
 "cells": [
  {
   "cell_type": "markdown",
   "metadata": {},
   "source": [
    "Zadanie 1"
   ]
  },
  {
   "cell_type": "code",
   "execution_count": 3,
   "metadata": {},
   "outputs": [
    {
     "name": "stdout",
     "output_type": "stream",
     "text": [
      "[1.e-11 1.e-12 1.e-13 1.e-14 1.e-15 1.e-16 1.e-17 1.e-18 1.e-19 1.e-20]\n",
      "[1.e-11 1.e-12 1.e-13 1.e-14 1.e-15 1.e-16 1.e-17 1.e-18 1.e-19 1.e-20]\n"
     ]
    },
    {
     "data": {
      "text/plain": [
       "array([0., 0., 0., 0., 0., 0., 0., 0., 0., 0.], dtype=float32)"
      ]
     },
     "execution_count": 3,
     "metadata": {},
     "output_type": "execute_result"
    }
   ],
   "source": [
    "import numpy as np\n",
    "\n",
    "def f1Single(x):\n",
    "    x1 = np.float32(x);\n",
    "    return np.float32(4038*((1-np.cos(x1))/ (x1 * x1)))\n",
    "    \n",
    "def f1Double(x):\n",
    "    x2 = np.float64(x);\n",
    "    return np.float64(4038*((1-np.cos(x2))/(x2 * x2)))\n",
    "\n",
    "i1 = np.arange(11,21, dtype=np.float32)\n",
    "i2 = np.arange(11,21, dtype=np.float64)\n",
    "x1 = np.full(10, 10, dtype=np.float32)\n",
    "x2 = np.full(10, 10, dtype=np.float64)\n",
    "x1 = x1 ** -i1\n",
    "x2 = x2 ** -i2\n",
    "print(x1)\n",
    "print(x2)\n",
    "f1Single(x1)"
   ]
  },
  {
   "cell_type": "code",
   "execution_count": 4,
   "metadata": {},
   "outputs": [
    {
     "data": {
      "text/plain": [
       "array([0., 0., 0., 0., 0., 0., 0., 0., 0., 0.])"
      ]
     },
     "execution_count": 4,
     "metadata": {},
     "output_type": "execute_result"
    }
   ],
   "source": [
    "f1Double(x2)"
   ]
  },
  {
   "cell_type": "code",
   "execution_count": 5,
   "metadata": {},
   "outputs": [
    {
     "data": {
      "text/plain": [
       "dtype('float64')"
      ]
     },
     "execution_count": 5,
     "metadata": {},
     "output_type": "execute_result"
    }
   ],
   "source": [
    "f1Double(x2).dtype"
   ]
  },
  {
   "cell_type": "markdown",
   "metadata": {},
   "source": [
    "Zadanie 2"
   ]
  },
  {
   "cell_type": "code",
   "execution_count": 8,
   "metadata": {},
   "outputs": [
    {
     "data": {
      "image/png": "[encoded data removed]",
      "text/plain": [
       "<Figure size 432x288 with 1 Axes>"
      ]
     },
     "metadata": {
      "needs_background": "light"
     },
     "output_type": "display_data"
    }
   ],
   "source": [
    "def f2Double(n):\n",
    "    x0 = np.float64(1)\n",
    "    x1 = np.float64(1/3)\n",
    "    x2 = np.float64(np.float64(1/3)*(-299*x1+100*x0))\n",
    "    if(n == 0):\n",
    "        return x0\n",
    "    elif(n == 1):\n",
    "        return x1\n",
    "    else:\n",
    "        for i in range(2, n):\n",
    "            x0 = x1\n",
    "            x1 = x2\n",
    "            x2 = np.float64(np.float64(1/3)*(-299*x1+100*x0))\n",
    "        return x2\n",
    "def f2Single(n):\n",
    "    x0 = np.float32(1)\n",
    "    x1 = np.float32(1/3)\n",
    "    x2 = np.float32(np.float32(1/3)*(-299*x1+100*x0))\n",
    "    if(n == 0):\n",
    "        return x0\n",
    "    elif(n == 1):\n",
    "        return x1\n",
    "    else:\n",
    "        for i in range(2, n):\n",
    "            x0 = x1\n",
    "            x1 = x2\n",
    "            x2 = np.float32(np.float32(1/3)*(-299*x1+100*x0))\n",
    "        return x2\n",
    "\n",
    "xn = np.arange(0, 51)\n",
    "xnSingle = np.array([f2Single(xi) for xi in xn])\n",
    "xnDouble = np.array([f2Double(xi) for xi in xn])\n",
    "import matplotlib.pyplot as plt\n",
    "plt.plot(xnSingle)\n",
    "plt.plot(xnDouble)\n",
    "plt.ylim(-10, 10)\n",
    "plt.xlim(0, 50)\n",
    "plt.ylabel('Wartość f2(x)')\n",
    "plt.show()"
   ]
  },
  {
   "cell_type": "markdown",
   "metadata": {},
   "source": [
    "Zadanie 3"
   ]
  },
  {
   "cell_type": "code",
   "execution_count": 21,
   "metadata": {},
   "outputs": [
    {
     "data": {
      "image/png": "[encoded data removed]",
      "text/plain": [
       "<Figure size 432x288 with 1 Axes>"
      ]
     },
     "metadata": {
      "needs_background": "light"
     },
     "output_type": "display_data"
    },
    {
     "name": "stdout",
     "output_type": "stream",
     "text": [
      "[ 4.95172106e-04  9.99504805e-01 -2.01700024e+03  4.07232400e+06\n",
      " -8.22202214e+09  1.66002625e+13 -3.35159298e+16  6.76686603e+19\n",
      " -1.36623027e+23  2.75841893e+26 -5.56924773e+29  1.12443115e+33\n",
      " -2.27022643e+36             inf            -inf             inf\n",
      "            -inf             inf            -inf             inf\n",
      "            -inf]\n",
      "[ 4.95172082e-04  9.99504828e-01 -2.01700025e+03  4.07232400e+06\n",
      " -8.22202216e+09  1.66002627e+13 -3.35159305e+16  6.76686636e+19\n",
      " -1.36623032e+23  2.75841901e+26 -5.56924798e+29  1.12443117e+33\n",
      " -2.27022653e+36  4.58358736e+39 -9.25426288e+42  1.86843568e+46\n",
      " -3.77237163e+49  7.61641832e+52 -1.53775486e+56  3.10472706e+59\n",
      " -6.26844393e+62]\n"
     ]
    }
   ],
   "source": [
    "def f3Single(n):\n",
    "    n0 = np.float32(np.log(2020/2019))\n",
    "    n1 = np.float32(1 - np.log(2020/2019))\n",
    "    if n == 0:\n",
    "        return n0\n",
    "    else:\n",
    "        for i in range(1, n):\n",
    "            n0 = n1\n",
    "            n1 = np.float32(1/i - 2019*n0)\n",
    "        return n1\n",
    "    \n",
    "def f3Double(n):\n",
    "    n0 = np.float64(np.log(2020/2019))\n",
    "    n1 = np.float64(1 - np.log(2020/2019))\n",
    "    if n == 0:\n",
    "        return n0\n",
    "    else:\n",
    "        for i in range(1, n):\n",
    "            n0 = n1\n",
    "            n1 = np.float64(1/i - 2019*n0)\n",
    "        return n1\n",
    "\n",
    "xn = np.arange(0, 21)\n",
    "xnSingle = np.array([f3Single(xi) for xi in xn])\n",
    "xnDouble = np.array([f3Double(xi) for xi in xn])\n",
    "plt.plot(xnSingle)\n",
    "plt.plot(xnDouble)\n",
    "plt.ylim(-10, 10)\n",
    "plt.xlim(0, 20)\n",
    "plt.ylabel('Wartość f3(x)')\n",
    "plt.show()\n",
    "print(xnSingle)\n",
    "print(xnDouble)"
   ]
  },
  {
   "cell_type": "markdown",
   "metadata": {},
   "source": [
    "Zadanie 4"
   ]
  },
  {
   "cell_type": "code",
   "execution_count": 45,
   "metadata": {},
   "outputs": [
    {
     "name": "stdout",
     "output_type": "stream",
     "text": [
      "Nie działa: 1.9999599992104322e-05\n",
      "Nie działa: 1.9999599992104322e-05\n"
     ]
    }
   ],
   "source": [
    "def f4Single():\n",
    "    pi = np.float32(0)\n",
    "    one = 1\n",
    "    for i in range(0, 50001):\n",
    "        if i % 2 == 0:\n",
    "            one = 1\n",
    "        else:\n",
    "            one = -1\n",
    "        pi+=4*(one/np.float32(2*i+1))\n",
    "    return pi\n",
    "f4S = f4Single()\n",
    "if(np.abs(np.pi - f4S) <= np.float32(1/100000)):\n",
    "    print(\"Działa\", f4S)\n",
    "else:\n",
    "    print(\"Nie działa:\", np.abs(np.pi - f4S))\n",
    "\n",
    "def f4Double():\n",
    "    pi = np.float64(0)\n",
    "    one = 1\n",
    "    for i in range(0, 50001):\n",
    "        if i % 2 == 0:\n",
    "            one = 1\n",
    "        else:\n",
    "            one = -1\n",
    "        pi+=4*(one/np.float64(2*i+1))\n",
    "    return pi\n",
    "\n",
    "f4D = f4Double()\n",
    "if(np.abs(np.pi - f4D) <= np.float64(1/100000)):\n",
    "    print(\"Działa\", f4D)\n",
    "else:\n",
    "    print(\"Nie działa:\", np.abs(np.pi - f4D))"
   ]
  },
  {
   "cell_type": "code",
   "execution_count": 42,
   "metadata": {},
   "outputs": [
    {
     "data": {
      "text/plain": [
       "True"
      ]
     },
     "execution_count": 42,
     "metadata": {},
     "output_type": "execute_result"
    }
   ],
   "source": []
  },
  {
   "cell_type": "code",
   "execution_count": null,
   "metadata": {},
   "outputs": [],
   "source": []
  }
 ],
 "metadata": {
  "kernelspec": {
   "display_name": "Python 3",
   "language": "python",
   "name": "python3"
  },
  "language_info": {
   "codemirror_mode": {
    "name": "ipython",
    "version": 3
   },
   "file_extension": ".py",
   "mimetype": "text/x-python",
   "name": "python",
   "nbconvert_exporter": "python",
   "pygments_lexer": "ipython3",
   "version": "3.7.3"
  }
 },
 "nbformat": 4,
 "nbformat_minor": 2
}
