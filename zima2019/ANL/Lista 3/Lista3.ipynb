{
 "cells": [
  {
   "cell_type": "code",
   "execution_count": 38,
   "metadata": {},
   "outputs": [
    {
     "name": "stdout",
     "output_type": "stream",
     "text": [
      "-999.9989999989999 -0.0010000010000510429\n",
      "-999.9989999989999 -0.001000001000002\n",
      "-99999.99990000001 -0.00010000000116860974\n",
      "-99999.99990000001 -0.0001000000001\n",
      "-6666.666656666667 -9.999999747378752e-06\n",
      "-6666.666656666667 -1.0000000015e-05\n"
     ]
    }
   ],
   "source": [
    "import numpy as np\n",
    "\n",
    "def f2_1(a, b, c):\n",
    "    delta = np.sqrt((b ** 2) - (4*a*c))\n",
    "    x1 = (-b - delta) / (2*a) \n",
    "    x2 = (-b + delta) / (2*a)\n",
    "    print(x1, x2)\n",
    "\n",
    "def f2_2(a, b, c):\n",
    "    delta = np.sqrt((b ** 2) - (4*a*c))\n",
    "    if(b >= 0):\n",
    "        x1 = (-b - delta)/(2*a)\n",
    "    else:\n",
    "        x1 = (-b + deta)/(2*a)\n",
    "    x2 = c/(a*x1)\n",
    "    print(x1, x2)\n",
    "\n",
    "#WolframAlpha mówi x1 = -999.999 x2 = -0,001\n",
    "f2_1(0.1, 100, 0.1)\n",
    "f2_2(0.1, 100, 0.1)\n",
    "\n",
    "#WolframAlpha mówi x1=-100000 x2=-0.0001\n",
    "f2_1(0.001, 100, 0.01)\n",
    "f2_2(0.001, 100, 0.01)\n",
    "\n",
    "#WolframAlpha mówi x1=-6666.67 x2=-0.00001\n",
    "f2_1(1.5, 10000, 0.1)\n",
    "f2_2(1.5, 10000, 0.1)"
   ]
  },
  {
   "cell_type": "code",
   "execution_count": 34,
   "metadata": {},
   "outputs": [
    {
     "name": "stdout",
     "output_type": "stream",
     "text": [
      "4.440892098500626e-16\n",
      "7.070501591499379e-17\n",
      "0.0\n",
      "8.881784197001252e-16\n",
      "0.0\n"
     ]
    }
   ],
   "source": [
    "def f1_a2(x):\n",
    "    return np.cos(3*x)/np.cos(x)\n",
    "def f1_a3(x):\n",
    "    return 4*(1-(np.sin(x)**2)) - 3\n",
    "def f1_a(x):\n",
    "    return 4*(np.cos(x) ** 2) - 3\n",
    "\n",
    "import math as math\n",
    "\n",
    "def f1_b(x):\n",
    "    return math.log(x, 5) - 6\n",
    "def f1_b2(x):\n",
    "    return math.log(x/(5 ** 6), 5)\n",
    "print(f1_a(np.pi/6))\n",
    "print(f1_a2(np.pi/6))\n",
    "print(f1_a3(np.pi/6))\n",
    "print(f1_b(5 ** 6))\n",
    "print(f1_b2(5 ** 6))"
   ]
  },
  {
   "cell_type": "code",
   "execution_count": null,
   "metadata": {},
   "outputs": [],
   "source": []
  }
 ],
 "metadata": {
  "kernelspec": {
   "display_name": "Python 3",
   "language": "python",
   "name": "python3"
  },
  "language_info": {
   "codemirror_mode": {
    "name": "ipython",
    "version": 3
   },
   "file_extension": ".py",
   "mimetype": "text/x-python",
   "name": "python",
   "nbconvert_exporter": "python",
   "pygments_lexer": "ipython3",
   "version": "3.7.3"
  }
 },
 "nbformat": 4,
 "nbformat_minor": 2
}
