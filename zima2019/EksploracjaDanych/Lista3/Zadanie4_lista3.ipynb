{
 "cells": [
  {
   "cell_type": "code",
   "execution_count": null,
   "metadata": {},
   "outputs": [
    {
     "name": "stdout",
     "output_type": "stream",
     "text": [
      "(50, 3)\n"
     ]
    }
   ],
   "source": [
    "import matplotlib.pyplot as plt\n",
    "import numpy as np\n",
    "\n",
    "def k_means(points, k):\n",
    "    maxiter = 1000\n",
    "    def init_centroids(points, k):\n",
    "        return points[np.random.randint(points.shape[0], size=k)]\n",
    "    def get_distances(centroid, points):\n",
    "        #X_dist = np.sqrt(np.sum(((points-centroid) ** 2), axis=1))\n",
    "        return np.linalg.norm(points - centroid, axis=1)\n",
    "        #return X_dist\n",
    "    classes = np.zeros(points.shape[0], dtype=np.float64)\n",
    "    distances = np.zeros([points.shape[0], k], dtype=np.float64)\n",
    "    for i in range(maxiter):\n",
    "        centroids = init_centroids(points, k)\n",
    "        # Assign all points to the nearest centroid\n",
    "        for i, c in enumerate(centroids):\n",
    "            distances[:, i] = get_distances(c, points)\n",
    "\n",
    "        # Determine class membership of each point\n",
    "        # by picking the closest centroid\n",
    "        classes = np.argmin(distances, axis=1)\n",
    "\n",
    "        # Update centroid location using the newly\n",
    "        # assigned data point classes\n",
    "        for c in range(k):\n",
    "            centroids[c] = np.mean(points[classes == c], 0)\n",
    "    return classes\n",
    "\n",
    "photo = {}\n",
    "for i in range(1,6):\n",
    "    photo[i] = plt.imread(\"zdjecie\" + str(i) + \".jpg\")\n",
    "    photo[i] = np.reshape(photo[i], (photo[i].shape[0]*photo[i].shape[1], photo[i].shape[2]))\n",
    "    \n",
    "k_means(photo[1], 50)"
   ]
  },
  {
   "cell_type": "code",
   "execution_count": null,
   "metadata": {},
   "outputs": [],
   "source": []
  },
  {
   "cell_type": "code",
   "execution_count": null,
   "metadata": {},
   "outputs": [],
   "source": []
  }
 ],
 "metadata": {
  "kernelspec": {
   "display_name": "Python 3",
   "language": "python",
   "name": "python3"
  },
  "language_info": {
   "codemirror_mode": {
    "name": "ipython",
    "version": 3
   },
   "file_extension": ".py",
   "mimetype": "text/x-python",
   "name": "python",
   "nbconvert_exporter": "python",
   "pygments_lexer": "ipython3",
   "version": "3.7.4"
  }
 },
 "nbformat": 4,
 "nbformat_minor": 2
}
