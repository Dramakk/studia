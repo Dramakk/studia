{
 "cells": [
  {
   "cell_type": "code",
   "execution_count": 16,
   "metadata": {},
   "outputs": [],
   "source": [
    "import matplotlib.pyplot as plt\n",
    "%matplotlib inline\n",
    "import numpy as np\n",
    "\n",
    "def k_means(points, k):\n",
    "    maxiter = 100\n",
    "    def initialize_centroids(points, k):\n",
    "        centroids = points.copy()\n",
    "        np.random.shuffle(centroids)\n",
    "        return centroids[:k]\n",
    "    def closest_centroid(points, centroids):\n",
    "        distances = np.sqrt(((points - centroids[:, np.newaxis])**2).sum(axis=2))\n",
    "        return np.argmin(distances, axis=0)\n",
    "    def move_centroids(points, closest, centroids):\n",
    "        return np.array([points[closest==k].mean(axis=0) for k in range(centroids.shape[0])])\n",
    "    centroids = initialize_centroids(points, k)\n",
    "    for j in range(0, maxiter):\n",
    "        CC = closest_centroid(points, centroids)\n",
    "        centroids = move_centroids(points, CC, centroids)\n",
    "    return [centroids, CC]\n",
    "colors = 3\n",
    "photo = {}"
   ]
  },
  {
   "cell_type": "code",
   "execution_count": 17,
   "metadata": {},
   "outputs": [
    {
     "ename": "IndexError",
     "evalue": "list assignment index out of range",
     "output_type": "error",
     "traceback": [
      "\u001b[0;31m---------------------------------------------------------------------------\u001b[0m",
      "\u001b[0;31mIndexError\u001b[0m                                Traceback (most recent call last)",
      "\u001b[0;32m<ipython-input-17-ba9f4b48f612>\u001b[0m in \u001b[0;36m<module>\u001b[0;34m\u001b[0m\n\u001b[0;32m----> 1\u001b[0;31m \u001b[0mphoto\u001b[0m\u001b[0;34m[\u001b[0m\u001b[0;36m1\u001b[0m\u001b[0;34m]\u001b[0m \u001b[0;34m=\u001b[0m \u001b[0mplt\u001b[0m\u001b[0;34m.\u001b[0m\u001b[0mimread\u001b[0m\u001b[0;34m(\u001b[0m\u001b[0;34m\"zdjecie\"\u001b[0m \u001b[0;34m+\u001b[0m \u001b[0mstr\u001b[0m\u001b[0;34m(\u001b[0m\u001b[0;36m1\u001b[0m\u001b[0;34m)\u001b[0m \u001b[0;34m+\u001b[0m \u001b[0;34m\".jpg\"\u001b[0m\u001b[0;34m)\u001b[0m\u001b[0;34m\u001b[0m\u001b[0;34m\u001b[0m\u001b[0m\n\u001b[0m\u001b[1;32m      2\u001b[0m \u001b[0ms0\u001b[0m \u001b[0;34m=\u001b[0m \u001b[0mphoto\u001b[0m\u001b[0;34m[\u001b[0m\u001b[0;36m1\u001b[0m\u001b[0;34m]\u001b[0m\u001b[0;34m.\u001b[0m\u001b[0mshape\u001b[0m\u001b[0;34m[\u001b[0m\u001b[0;36m0\u001b[0m\u001b[0;34m]\u001b[0m\u001b[0;34m\u001b[0m\u001b[0;34m\u001b[0m\u001b[0m\n\u001b[1;32m      3\u001b[0m \u001b[0ms1\u001b[0m \u001b[0;34m=\u001b[0m \u001b[0mphoto\u001b[0m\u001b[0;34m[\u001b[0m\u001b[0;36m1\u001b[0m\u001b[0;34m]\u001b[0m\u001b[0;34m.\u001b[0m\u001b[0mshape\u001b[0m\u001b[0;34m[\u001b[0m\u001b[0;36m1\u001b[0m\u001b[0;34m]\u001b[0m\u001b[0;34m\u001b[0m\u001b[0;34m\u001b[0m\u001b[0m\n\u001b[1;32m      4\u001b[0m \u001b[0ms2\u001b[0m \u001b[0;34m=\u001b[0m \u001b[0mphoto\u001b[0m\u001b[0;34m[\u001b[0m\u001b[0;36m1\u001b[0m\u001b[0;34m]\u001b[0m\u001b[0;34m.\u001b[0m\u001b[0mshape\u001b[0m\u001b[0;34m[\u001b[0m\u001b[0;36m2\u001b[0m\u001b[0;34m]\u001b[0m\u001b[0;34m\u001b[0m\u001b[0;34m\u001b[0m\u001b[0m\n\u001b[1;32m      5\u001b[0m \u001b[0mphoto\u001b[0m\u001b[0;34m[\u001b[0m\u001b[0;36m1\u001b[0m\u001b[0;34m]\u001b[0m \u001b[0;34m=\u001b[0m \u001b[0mnp\u001b[0m\u001b[0;34m.\u001b[0m\u001b[0mreshape\u001b[0m\u001b[0;34m(\u001b[0m\u001b[0mphoto\u001b[0m\u001b[0;34m[\u001b[0m\u001b[0;36m1\u001b[0m\u001b[0;34m]\u001b[0m\u001b[0;34m,\u001b[0m \u001b[0;34m(\u001b[0m\u001b[0ms0\u001b[0m\u001b[0;34m*\u001b[0m\u001b[0ms1\u001b[0m\u001b[0;34m,\u001b[0m \u001b[0ms2\u001b[0m\u001b[0;34m)\u001b[0m\u001b[0;34m)\u001b[0m\u001b[0;34m\u001b[0m\u001b[0;34m\u001b[0m\u001b[0m\n",
      "\u001b[0;31mIndexError\u001b[0m: list assignment index out of range"
     ]
    }
   ],
   "source": [
    "photo[1] = plt.imread(\"zdjecie\" + str(1) + \".jpg\")\n",
    "s0 = photo[1].shape[0]\n",
    "s1 = photo[1].shape[1]\n",
    "s2 = photo[1].shape[2]\n",
    "photo[1] = np.reshape(photo[1], (s0*s1, s2))\n",
    "photo_data = k_means(photo[1], colors)\n",
    "photo[1] = photo_data[0][photo_data[1]]\n",
    "photo[1] = photo[1].astype(np.int, copy=False)\n",
    "photo[1] = np.reshape(photo[1], (s0, s1, s2))\n",
    "plt.imshow(photo[1])"
   ]
  },
  {
   "cell_type": "code",
   "execution_count": null,
   "metadata": {},
   "outputs": [],
   "source": [
    "photo[2] = plt.imread(\"zdjecie\" + str(2) + \".jpg\")\n",
    "s0 = photo[2].shape[0]\n",
    "s1 = photo[2].shape[1]\n",
    "s2 = photo[2].shape[2]\n",
    "photo[2] = np.reshape(photo[2], (s0*s1, s2))\n",
    "photo_data = k_means(photo[2], colors)\n",
    "photo[2] = photo_data[0][photo_data[1]]\n",
    "photo[2] = photo[2].astype(np.int, copy=False)\n",
    "photo[2] = np.reshape(photo[2], (s0, s1, s2))\n",
    "plt.imshow(photo[2])"
   ]
  },
  {
   "cell_type": "code",
   "execution_count": null,
   "metadata": {},
   "outputs": [],
   "source": [
    "photo[3] = plt.imread(\"zdjecie\" + str(3) + \".jpg\")\n",
    "s0 = photo[3].shape[0]\n",
    "s1 = photo[3].shape[1]\n",
    "s2 = photo[3].shape[2]\n",
    "photo[3] = np.reshape(photo[3], (s0*s1, s2))\n",
    "photo_data = k_means(photo[3], colors)\n",
    "photo[3] = photo_data[0][photo_data[1]]\n",
    "photo[3] = photo[3].astype(np.int, copy=False)\n",
    "photo[3] = np.reshape(photo[3], (s0, s1, s2))\n",
    "plt.imshow(photo[3])"
   ]
  },
  {
   "cell_type": "code",
   "execution_count": null,
   "metadata": {},
   "outputs": [],
   "source": [
    "photo[4] = plt.imread(\"zdjecie\" + str(4) + \".jpg\")\n",
    "s0 = photo[4].shape[0]\n",
    "s1 = photo[4].shape[1]\n",
    "s2 = photo[4].shape[2]\n",
    "photo[4] = np.reshape(photo[4], (s0*s1, s2))\n",
    "photo_data = k_means(photo[4], colors)\n",
    "photo[4] = photo_data[0][photo_data[1]]\n",
    "photo[4] = photo[4].astype(np.int, copy=False)\n",
    "photo[4] = np.reshape(photo[4], (s0, s1, s2))\n",
    "plt.imshow(photo[4])"
   ]
  },
  {
   "cell_type": "code",
   "execution_count": null,
   "metadata": {},
   "outputs": [],
   "source": [
    "photo[5] = plt.imread(\"zdjecie\" + str(5) + \".jpg\")\n",
    "s0 = photo[5].shape[0]\n",
    "s1 = photo[5].shape[1]\n",
    "s2 = photo[5].shape[2]\n",
    "photo[5] = np.reshape(photo[5], (s0*s1, s2))\n",
    "photo_data = k_means(photo[5], colors)\n",
    "photo[5] = photo_data[0][photo_data[1]]\n",
    "photo[5] = photo[5].astype(np.int, copy=False)\n",
    "photo[5] = np.reshape(photo[5], (s0, s1, s2))\n",
    "plt.imshow(photo[5])"
   ]
  },
  {
   "cell_type": "code",
   "execution_count": null,
   "metadata": {},
   "outputs": [],
   "source": []
  },
  {
   "cell_type": "code",
   "execution_count": null,
   "metadata": {},
   "outputs": [],
   "source": []
  },
  {
   "cell_type": "code",
   "execution_count": null,
   "metadata": {},
   "outputs": [],
   "source": []
  }
 ],
 "metadata": {
  "kernelspec": {
   "display_name": "Python 3",
   "language": "python",
   "name": "python3"
  },
  "language_info": {
   "codemirror_mode": {
    "name": "ipython",
    "version": 3
   },
   "file_extension": ".py",
   "mimetype": "text/x-python",
   "name": "python",
   "nbconvert_exporter": "python",
   "pygments_lexer": "ipython3",
   "version": "3.7.4"
  }
 },
 "nbformat": 4,
 "nbformat_minor": 2
}
