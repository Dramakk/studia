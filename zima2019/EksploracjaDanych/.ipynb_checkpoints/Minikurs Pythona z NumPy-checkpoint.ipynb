{
 "cells": [
  {
   "cell_type": "markdown",
   "metadata": {},
   "source": [
    "macierz.sum() to suma\n",
    "np.sum(macierz, axis=0 po kolumnach 1 po wierszach)\n",
    "Zwracany jest wektor płaski sum\n",
    "\n",
    "np.mean - średnia analogicznie\n",
    "np.std - odchylenie standardowe\n",
    "np.max\n",
    "np.min\n",
    "\n",
    "macierz.shape[0] rozmiar macierzy\n",
    "\n",
    "np.zeros(n, m) macierz nxm z zerami\n",
    "np.ones() - jedynki analogicznie\n",
    "np.full((n, m), czym wypelnic)\n",
    "np.eye(n) macierz przekątniowa nxn\n",
    "\n",
    "X[i, j] miejsce i,j w macierzy\n",
    "X[1, :] wiersz 1\n",
    "\n",
    "macierze są przekazywane przez wskaźnik nie wartość!\n",
    ".copy() zrobi kopię\n",
    "\n",
    "[1, 2] + [3, = [[4 5],\n",
    "          4]    [5, 6]]\n",
    "\n",
    "A.T transpozycja\n",
    "\n",
    "Starać się nie używać pętli for bo jest nieoptymalna\n"
   ]
  }
 ],
 "metadata": {
  "kernelspec": {
   "display_name": "Python 3",
   "language": "python",
   "name": "python3"
  },
  "language_info": {
   "codemirror_mode": {
    "name": "ipython",
    "version": 3
   },
   "file_extension": ".py",
   "mimetype": "text/x-python",
   "name": "python",
   "nbconvert_exporter": "python",
   "pygments_lexer": "ipython3",
   "version": "3.7.3"
  }
 },
 "nbformat": 4,
 "nbformat_minor": 2
}
