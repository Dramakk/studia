{
 "cells": [
  {
   "cell_type": "code",
   "execution_count": 3,
   "metadata": {
    "colab": {},
    "colab_type": "code",
    "id": "8CT-DxXdNhvj"
   },
   "outputs": [],
   "source": [
    "import tqdm\n",
    "import pandas as pd\n",
    "from collections import Counter\n",
    "from itertools import cycle\n",
    "import graphviz\n",
    "from sklearn import datasets, metrics, tree\n",
    "from sklearn.cluster import KMeans, MiniBatchKMeans, Birch, DBSCAN\n",
    "from sklearn.decomposition import PCA\n",
    "from sklearn.model_selection import train_test_split\n",
    "import tqdm\n",
    "\n",
    "from sklearn.preprocessing import LabelEncoder\n",
    "\n",
    "def draw_tree(name, data, features, class_names):\n",
    "  dot_data = tree.export_graphviz(data, out_file=None) \n",
    "  graph = graphviz.Source(dot_data)\n",
    "  graph.render(name)\n",
    "  dot_data = tree.export_graphviz(data, out_file=None, \n",
    "                      feature_names=features,  \n",
    "                      class_names=class_names,  \n",
    "                      filled=True, rounded=True,  \n",
    "                      special_characters=True)  \n",
    "  graph = graphviz.Source(dot_data)  \n",
    "  return graph"
   ]
  },
  {
   "cell_type": "code",
   "execution_count": 4,
   "metadata": {
    "colab": {},
    "colab_type": "code",
    "id": "gLdM9RT0Nitk"
   },
   "outputs": [],
   "source": [
    "columns = [\n",
    " \"target\", \"cap-shape\", \"cap-surface\", \"cap-color\", \"bruises?\", \"odor\", \n",
    " \"gill-attachment\", \"gill-spacing\", \"gill-size\", \"gill-color\", \"stalk-shape\", \n",
    " \"stalk-root\", \"stalk-surface-above-ring\", \"stalk-surface-below-ring\", \n",
    " \"stalk-color-above-ring\", \"stalk-color-below-ring\", \"veil-type\", \"veil-color\", \n",
    " \"ring-number\", \"ring-type\", \"spore-print-color\", \"population\", \"habitat\", ]\n",
    "\n",
    "url = 'http://archive.ics.uci.edu/ml/machine-learning-databases/mushroom/agaricus-lepiota.data'\n",
    "mushroom_df = pd.read_csv(url, header=None, names=columns)\n",
    "mushroom_df.dropna(axis='columns')\n",
    "for i in mushroom_df.columns:\n",
    "  mushroom_df[i] = pd.Categorical(mushroom_df[i]).codes\n",
    "X_mushroom_train, X_mushroom_test = train_test_split(mushroom_df, test_size=0.3333)\n",
    "Y_mushroom_train, Y_mushroom_test = X_mushroom_train['target'], X_mushroom_test['target']\n",
    "X_mushroom_test = X_mushroom_test.drop('target', axis = 1)\n",
    "X_mushroom_train = X_mushroom_train.drop('target', axis = 1)"
   ]
  },
  {
   "cell_type": "code",
   "execution_count": 5,
   "metadata": {
    "colab": {},
    "colab_type": "code",
    "id": "C40LLC6-NlUz"
   },
   "outputs": [
    {
     "ename": "SyntaxError",
     "evalue": "keyword can't be an expression (<ipython-input-5-1646ff369524>, line 1)",
     "output_type": "error",
     "traceback": [
      "\u001b[0;36m  File \u001b[0;32m\"<ipython-input-5-1646ff369524>\"\u001b[0;36m, line \u001b[0;32m1\u001b[0m\n\u001b[0;31m    mushroom_tree_gini = tree.DecisionTreeClassifier(criterion='gini', min_samples-leaf=10)\u001b[0m\n\u001b[0m                                                                      ^\u001b[0m\n\u001b[0;31mSyntaxError\u001b[0m\u001b[0;31m:\u001b[0m keyword can't be an expression\n"
     ]
    }
   ],
   "source": [
    "mushroom_tree_gini = tree.DecisionTreeClassifier(criterion='gini', min_samples_leaf=10)\n",
    "mushroom_tree_entropy = tree.DecisionTreeClassifier(criterion='entropy')"
   ]
  },
  {
   "cell_type": "code",
   "execution_count": null,
   "metadata": {
    "colab": {
     "base_uri": "https://localhost:8080/",
     "height": 119
    },
    "colab_type": "code",
    "id": "yzMrf9SuN6Wt",
    "outputId": "4140060a-f578-430e-c504-8e9db5b9c9c3"
   },
   "outputs": [],
   "source": [
    "mushroom_tree_gini.fit(X_mushroom_train, Y_mushroom_train)\n",
    "mushroom_tree_entropy.fit(X_mushroom_train, Y_mushroom_train)"
   ]
  },
  {
   "cell_type": "code",
   "execution_count": null,
   "metadata": {
    "colab": {
     "base_uri": "https://localhost:8080/",
     "height": 1000
    },
    "colab_type": "code",
    "id": "uWNiYyX6PbsV",
    "outputId": "8ad50750-e221-4268-c1a3-c2f76d357e4c"
   },
   "outputs": [],
   "source": [
    "draw_tree(\"Mushroom gini\", mushroom_tree_gini, mushroom_df.columns[1:], ['0', '1'])"
   ]
  },
  {
   "cell_type": "code",
   "execution_count": null,
   "metadata": {
    "colab": {
     "base_uri": "https://localhost:8080/",
     "height": 1000
    },
    "colab_type": "code",
    "id": "Ly4Mvle5Vv-n",
    "outputId": "7305705f-c208-4607-e8b9-ba19b2e1e448"
   },
   "outputs": [],
   "source": [
    "draw_tree(\"Mushroom gini\", mushroom_tree_entropy, mushroom_df.columns[1:], ['0', '1'])"
   ]
  },
  {
   "cell_type": "code",
   "execution_count": null,
   "metadata": {
    "colab": {
     "base_uri": "https://localhost:8080/",
     "height": 119
    },
    "colab_type": "code",
    "id": "ZVMe2OQTYPfd",
    "outputId": "29f4079e-fc33-40e3-8e56-5e6cc9777cec"
   },
   "outputs": [],
   "source": [
    "predicts_gini = mushroom_tree_gini.predict(X_mushroom_test)\n",
    "predicts_entropy = mushroom_tree_entropy.predict(X_mushroom_test)\n",
    "\n",
    "print('Confusion matrix for gini')\n",
    "print(metrics.confusion_matrix(predicts_gini, Y_mushroom_test))\n",
    "\n",
    "print('Confusion matrix for entropy')\n",
    "print(metrics.confusion_matrix(predicts_entropy, Y_mushroom_test))"
   ]
  },
  {
   "cell_type": "code",
   "execution_count": null,
   "metadata": {
    "colab": {
     "base_uri": "https://localhost:8080/",
     "height": 34
    },
    "colab_type": "code",
    "id": "jOPlJa-DYn1Y",
    "outputId": "d6494b61-73a4-4abe-9b60-571982647595"
   },
   "outputs": [],
   "source": [
    "metrics.f1_score(predicts_gini, Y_mushroom_test)"
   ]
  },
  {
   "cell_type": "code",
   "execution_count": null,
   "metadata": {
    "colab": {
     "base_uri": "https://localhost:8080/",
     "height": 34
    },
    "colab_type": "code",
    "id": "ryz_rN4qaCZx",
    "outputId": "5810a90c-d259-4413-bb55-2c1b7b40cf58"
   },
   "outputs": [],
   "source": [
    "metrics.f1_score(predicts_entropy, Y_mushroom_test)"
   ]
  },
  {
   "cell_type": "code",
   "execution_count": null,
   "metadata": {
    "colab": {},
    "colab_type": "code",
    "id": "qSGS3VrYaFFI"
   },
   "outputs": [],
   "source": []
  },
  {
   "cell_type": "code",
   "execution_count": null,
   "metadata": {},
   "outputs": [],
   "source": []
  }
 ],
 "metadata": {
  "colab": {
   "collapsed_sections": [],
   "name": "Zadanie4_lista5.ipynb",
   "provenance": []
  },
  "kernelspec": {
   "display_name": "Python 3",
   "language": "python",
   "name": "python3"
  },
  "language_info": {
   "codemirror_mode": {
    "name": "ipython",
    "version": 3
   },
   "file_extension": ".py",
   "mimetype": "text/x-python",
   "name": "python",
   "nbconvert_exporter": "python",
   "pygments_lexer": "ipython3",
   "version": "3.7.4"
  }
 },
 "nbformat": 4,
 "nbformat_minor": 1
}
