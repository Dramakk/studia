{
 "cells": [
  {
   "cell_type": "code",
   "execution_count": 0,
   "metadata": {
    "colab": {},
    "colab_type": "code",
    "id": "_GojCZVAK_O7"
   },
   "outputs": [],
   "source": [
    "from sklearn.ensemble import RandomForestClassifier\n",
    "from sklearn.ensemble import ExtraTreesClassifier\n",
    "\n",
    "import tqdm\n",
    "import random\n",
    "import pandas as pd\n",
    "from collections import Counter\n",
    "from itertools import cycle\n",
    "\n",
    "from sklearn import datasets, metrics, tree\n",
    "from sklearn.cluster import KMeans, MiniBatchKMeans, Birch, DBSCAN\n",
    "from sklearn.decomposition import PCA\n",
    "from sklearn.model_selection import train_test_split\n",
    "import tqdm\n",
    "\n",
    "from sklearn import tree"
   ]
  },
  {
   "cell_type": "code",
   "execution_count": 0,
   "metadata": {
    "colab": {},
    "colab_type": "code",
    "id": "gnQ6VDFlLLj6"
   },
   "outputs": [],
   "source": [
    "titanic_test = pd.read_csv('/content/drive/My Drive/test.csv')\n",
    "titanic_train = pd.read_csv('/content/drive/My Drive/train.csv')\n",
    "\n",
    "X = titanic_train.drop(['PassengerId', 'Name', 'Ticket', 'Cabin'], axis = 1)\n",
    "X = X.dropna()\n",
    "X['Sex'] = pd.Categorical(X['Sex']).codes\n",
    "X['Embarked'] = pd.Categorical(X['Embarked']).codes\n",
    "\n",
    "\n",
    "X_titanic_train, X_titanic_test = train_test_split(X, test_size=0.3333)\n",
    "Y_titanic_train = X_titanic_train['Survived']\n",
    "X_titanic_train = X_titanic_train.drop('Survived', axis=1)\n",
    "\n",
    "Y_titanic_test = X_titanic_test['Survived']\n",
    "X_titanic_test = X_titanic_test.drop('Survived', axis=1)"
   ]
  },
  {
   "cell_type": "code",
   "execution_count": 42,
   "metadata": {
    "colab": {
     "base_uri": "https://localhost:8080/",
     "height": 136
    },
    "colab_type": "code",
    "id": "RLJ2t0MuLiVs",
    "outputId": "d099754c-3de7-4296-ae40-926490ceb291"
   },
   "outputs": [
    {
     "data": {
      "text/plain": [
       "ExtraTreesClassifier(bootstrap=False, class_weight=None, criterion='gini',\n",
       "                     max_depth=None, max_features='auto', max_leaf_nodes=None,\n",
       "                     min_impurity_decrease=0.0, min_impurity_split=None,\n",
       "                     min_samples_leaf=1, min_samples_split=2,\n",
       "                     min_weight_fraction_leaf=0.0, n_estimators=20, n_jobs=None,\n",
       "                     oob_score=False, random_state=None, verbose=0,\n",
       "                     warm_start=False)"
      ]
     },
     "execution_count": 42,
     "metadata": {
      "tags": []
     },
     "output_type": "execute_result"
    }
   ],
   "source": [
    "random_forest = RandomForestClassifier(n_estimators=20)\n",
    "extra_random_forest = ExtraTreesClassifier(n_estimators=20)\n",
    "\n",
    "random_forest.fit(X_titanic_train, Y_titanic_train)\n",
    "extra_random_forest.fit(X_titanic_train, Y_titanic_train)"
   ]
  },
  {
   "cell_type": "code",
   "execution_count": 43,
   "metadata": {
    "colab": {
     "base_uri": "https://localhost:8080/",
     "height": 102
    },
    "colab_type": "code",
    "id": "17MgJzqyMCkp",
    "outputId": "7fec53a8-da5d-4471-ea0e-dd187c061c12"
   },
   "outputs": [
    {
     "name": "stdout",
     "output_type": "stream",
     "text": [
      "Random Forest:\n",
      "[[121  35]\n",
      " [ 12  70]]\n",
      "Score: 80.25%\n",
      "\n"
     ]
    }
   ],
   "source": [
    "print('Random Forest:')\n",
    "print(metrics.confusion_matrix(random_forest.predict(X_titanic_test), Y_titanic_test))\n",
    "print(f'Score: {random_forest.score(X_titanic_test, Y_titanic_test) * 100:.2f}%\\n')"
   ]
  },
  {
   "cell_type": "code",
   "execution_count": 44,
   "metadata": {
    "colab": {
     "base_uri": "https://localhost:8080/",
     "height": 102
    },
    "colab_type": "code",
    "id": "_FWPfCymMFIC",
    "outputId": "85119a45-37ba-48f4-aec1-fdcb66521696"
   },
   "outputs": [
    {
     "name": "stdout",
     "output_type": "stream",
     "text": [
      "Extremely Randomized Trees:\n",
      "[[120  31]\n",
      " [ 13  74]]\n",
      "Score: 81.51%\n",
      "\n"
     ]
    }
   ],
   "source": [
    "print('Extremely Randomized Trees:')\n",
    "print(metrics.confusion_matrix(extra_random_forest.predict(X_titanic_test), Y_titanic_test))\n",
    "print(f'Score: {extra_random_forest.score(X_titanic_test, Y_titanic_test) * 100:.2f}%\\n')"
   ]
  },
  {
   "cell_type": "code",
   "execution_count": 0,
   "metadata": {
    "colab": {},
    "colab_type": "code",
    "id": "8fFHCtsWM_KE"
   },
   "outputs": [],
   "source": [
    "iris = datasets.load_iris()\n",
    "iris_df = pd.DataFrame(iris.data, columns=iris.feature_names)\n",
    "iris_df['species'] = pd.Categorical.from_codes(iris.target, iris.target_names)"
   ]
  },
  {
   "cell_type": "code",
   "execution_count": 0,
   "metadata": {
    "colab": {},
    "colab_type": "code",
    "id": "VcsToE6cNBOa"
   },
   "outputs": [],
   "source": [
    "X_iris_train, X_iris_test = train_test_split(iris_df, test_size=0.3333)\n",
    "Y_iris_train = X_iris_train['species']\n",
    "X_iris_train = X_iris_train.drop('species', axis=1)\n",
    "\n",
    "Y_iris_test = X_iris_test['species']\n",
    "X_iris_test = X_iris_test.drop('species', axis=1)"
   ]
  },
  {
   "cell_type": "code",
   "execution_count": 47,
   "metadata": {
    "colab": {
     "base_uri": "https://localhost:8080/",
     "height": 136
    },
    "colab_type": "code",
    "id": "TxWtzQ8GNDqa",
    "outputId": "dbdbec32-fba4-44de-8cb4-3f75e9b91b24"
   },
   "outputs": [
    {
     "data": {
      "text/plain": [
       "ExtraTreesClassifier(bootstrap=False, class_weight=None, criterion='gini',\n",
       "                     max_depth=None, max_features='auto', max_leaf_nodes=None,\n",
       "                     min_impurity_decrease=0.0, min_impurity_split=None,\n",
       "                     min_samples_leaf=1, min_samples_split=2,\n",
       "                     min_weight_fraction_leaf=0.0, n_estimators=20, n_jobs=None,\n",
       "                     oob_score=False, random_state=None, verbose=0,\n",
       "                     warm_start=False)"
      ]
     },
     "execution_count": 47,
     "metadata": {
      "tags": []
     },
     "output_type": "execute_result"
    }
   ],
   "source": [
    "random_forest = RandomForestClassifier(n_estimators=20)\n",
    "extra_random_forest = ExtraTreesClassifier(n_estimators=20)\n",
    "\n",
    "random_forest.fit(X_iris_train, Y_iris_train)\n",
    "extra_random_forest.fit(X_iris_train, Y_iris_train)"
   ]
  },
  {
   "cell_type": "code",
   "execution_count": 48,
   "metadata": {
    "colab": {
     "base_uri": "https://localhost:8080/",
     "height": 119
    },
    "colab_type": "code",
    "id": "Wwloi-yQNE_q",
    "outputId": "2491f79e-146c-4f05-e4c1-82a55a319a99"
   },
   "outputs": [
    {
     "name": "stdout",
     "output_type": "stream",
     "text": [
      "Random Forest:\n",
      "[[14  0  0]\n",
      " [ 0 17  0]\n",
      " [ 0  3 16]]\n",
      "Score: 94.00%\n",
      "\n"
     ]
    }
   ],
   "source": [
    "print('Random Forest:')\n",
    "print(metrics.confusion_matrix(random_forest.predict(X_iris_test), Y_iris_test))\n",
    "print(f'Score: {random_forest.score(X_iris_test, Y_iris_test) * 100:.2f}%\\n')"
   ]
  },
  {
   "cell_type": "code",
   "execution_count": 49,
   "metadata": {
    "colab": {
     "base_uri": "https://localhost:8080/",
     "height": 119
    },
    "colab_type": "code",
    "id": "mSCeg8prNG_K",
    "outputId": "ebe8e544-00e4-4fba-fd68-fe12bc53acaa"
   },
   "outputs": [
    {
     "name": "stdout",
     "output_type": "stream",
     "text": [
      "Extremely Randomized Trees:\n",
      "[[14  0  0]\n",
      " [ 0 17  1]\n",
      " [ 0  3 15]]\n",
      "Score: 92.00%\n",
      "\n"
     ]
    }
   ],
   "source": [
    "print('Extremely Randomized Trees:')\n",
    "print(metrics.confusion_matrix(extra_random_forest.predict(X_iris_test), Y_iris_test))\n",
    "print(f'Score: {extra_random_forest.score(X_iris_test, Y_iris_test) * 100:.2f}%\\n')"
   ]
  },
  {
   "cell_type": "code",
   "execution_count": 0,
   "metadata": {
    "colab": {},
    "colab_type": "code",
    "id": "8hoL2Sg9NIOq"
   },
   "outputs": [],
   "source": []
  }
 ],
 "metadata": {
  "colab": {
   "collapsed_sections": [],
   "name": "Zadanie3_lista5.ipynb",
   "provenance": []
  },
  "kernelspec": {
   "display_name": "Python 3",
   "language": "python",
   "name": "python3"
  },
  "language_info": {
   "codemirror_mode": {
    "name": "ipython",
    "version": 3
   },
   "file_extension": ".py",
   "mimetype": "text/x-python",
   "name": "python",
   "nbconvert_exporter": "python",
   "pygments_lexer": "ipython3",
   "version": "3.7.4"
  }
 },
 "nbformat": 4,
 "nbformat_minor": 1
}
